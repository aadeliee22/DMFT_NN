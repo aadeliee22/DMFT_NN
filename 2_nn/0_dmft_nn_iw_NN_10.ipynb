{
 "cells": [
  {
   "cell_type": "code",
   "execution_count": 3,
   "metadata": {},
   "outputs": [],
   "source": [
    "import numpy as np\n",
    "import matplotlib.pyplot as plt\n",
    "import torch\n",
    "import torch.optim as optim\n",
    "import torch.nn as nn\n",
    "import torch.nn.functional as F\n",
    "import os.path as path\n",
    "import matplotlib.ticker as ticker\n",
    "from scipy.integrate import simps, trapz\n",
    "\n",
    "\n",
    "import matplotlib as mpl\n",
    "mpl.rcParams.update({\n",
    "    'font.family' : 'STIXGeneral',\n",
    "    'mathtext.fontset' : 'stix',\n",
    "    'xtick.direction' : 'in' ,\n",
    "    'xtick.labelsize' : 13 ,\n",
    "    'xtick.top' : True ,\n",
    "    'ytick.direction' : 'in' ,\n",
    "    'ytick.labelsize' : 13 ,\n",
    "    'ytick.right' : True ,\n",
    "    'axes.labelsize' : 16,\n",
    "    'legend.frameon' : False,\n",
    "    'legend.fontsize' : 13,\n",
    "    'legend.handlelength' : 1.5,\n",
    "    'savefig.dpi' : 600, \n",
    "    'savefig.bbox' : 'tight'\n",
    "})"
   ]
  },
  {
   "cell_type": "code",
   "execution_count": 4,
   "metadata": {},
   "outputs": [
    {
     "name": "stdout",
     "output_type": "stream",
     "text": [
      "/home/hyejin/Desktop/my_git/DMFT_NN/2_nn\r\n"
     ]
    }
   ],
   "source": [
    "!pwd"
   ]
  },
  {
   "cell_type": "code",
   "execution_count": 6,
   "metadata": {
    "scrolled": true
   },
   "outputs": [
    {
     "data": {
      "image/png": "[encoded data removed]",
      "text/plain": [
       "<Figure size 432x288 with 1 Axes>"
      ]
     },
     "metadata": {
      "needs_background": "light"
     },
     "output_type": "display_data"
    },
    {
     "data": {
      "text/plain": [
       "[<matplotlib.lines.Line2D at 0x7f1066a448e0>]"
      ]
     },
     "execution_count": 6,
     "metadata": {},
     "output_type": "execute_result"
    },
    {
     "data": {
      "image/png": "[encoded data removed]",
      "text/plain": [
       "<Figure size 432x288 with 1 Axes>"
      ]
     },
     "metadata": {
      "needs_background": "light"
     },
     "output_type": "display_data"
    }
   ],
   "source": [
    "D = 1\n",
    "out_node = 2\n",
    "directory = '../1_dmftsolver/NRG'\n",
    "\n",
    "w, A,Gr,Gi,_,_,_,_,_,_ = np.loadtxt(f'{directory}/Bethe_41_beta10000/Bethe-{2.25:.3f}.dat', \\\n",
    "                       unpack = True, dtype = 'complex128')\n",
    "plt.plot(w.real)\n",
    "plt.ylabel(r'real frequency $\\omega$')\n",
    "plt.xlabel('index number')\n",
    "plt.axvspan(1319-250, 1319+250, alpha=0.5, color='#ffee52')\n",
    "plt.annotate(r'$\\omega\\simeq0$', xy=(0.5, 0.55), xycoords = 'axes fraction', fontsize=15, ha='center')\n",
    "#plt.savefig('index2w.png')\n",
    "plt.show()\n",
    "\n",
    "\n",
    "plt.plot(Gr.real)\n",
    "plt.plot(Gi.real)"
   ]
  },
  {
   "cell_type": "markdown",
   "metadata": {},
   "source": [
    "# Neural Network"
   ]
  },
  {
   "cell_type": "markdown",
   "metadata": {},
   "source": [
    "### ED data"
   ]
  },
  {
   "cell_type": "code",
   "execution_count": 7,
   "metadata": {},
   "outputs": [],
   "source": [
    "def EDbath(e, V):\n",
    "    return np.array([np.sum(V**2/(1j*omega[i]-e)) for i in range (aa)])\n",
    "beta = 100\n",
    "directory1 = '../1_dmftsolver/ED'\n",
    "a = np.loadtxt(f'{directory1}/ED_14_beta{beta:d}/checkpoint-{3.00:.2f}', dtype = 'float64')\n",
    "iw, Giwr, Giwi = np.loadtxt(f'{directory1}/ED_14_beta{beta:d}/Giw-{3.00:.2f}.dat',\\\n",
    "                                       unpack = True, dtype = 'float64')\n",
    "e, V = a[:5], a[5:]\n",
    "\n",
    "aa = 10000\n",
    "omega = np.pi/aa * (2*np.arange(aa)+1)"
   ]
  },
  {
   "cell_type": "code",
   "execution_count": 8,
   "metadata": {
    "scrolled": true
   },
   "outputs": [],
   "source": [
    "beta = 100\n",
    "directory1 = '../1_dmftsolver/ED'\n",
    "up_num = 211\n",
    "dn_num = 211\n",
    "U = np.array([0.01*i for i in range(50, 501)])\n",
    "U1_ed = np.zeros(up_num, dtype = 'float64')\n",
    "U2_ed = np.zeros(dn_num, dtype = 'float64')\n",
    "U_c1_ed, U_c2_ed = 2.4, 2.93\n",
    "\n",
    "\n",
    "n = 0\n",
    "for i, u in enumerate(U):\n",
    "    if path.isfile(f'{directory1}/ED_14_beta{beta:d}/checkpoint-{u:.2f}')==False: continue\n",
    "    U1_ed[n] = u\n",
    "    n += 1\n",
    "n = 0\n",
    "for i, u in enumerate(U):\n",
    "    if path.isfile(f'{directory1}/ED_41_beta{beta:d}/checkpoint-{u:.2f}')==False: continue\n",
    "    U2_ed[n] = u\n",
    "    n += 1\n",
    "\n",
    "x_test_ed = np.zeros((len(U1_ed)+len(U2_ed), 10000), dtype = 'float64')\n",
    "UU1 = U1_ed[U1_ed<2.3]\n",
    "UU2 = U2_ed[U2_ed>2.8]\n",
    "x = np.zeros((len(UU1)+len(UU2), 10000), dtype = 'float64')\n",
    "\n",
    "for i,u in enumerate(U1_ed):\n",
    "    a = np.loadtxt(f'{directory1}/ED_14_beta{beta:d}/checkpoint-{u:.2f}', dtype = 'float64')\n",
    "    e,V = a[:int(len(a)/2)], a[int(len(a)/2):]\n",
    "    x_test_ed[i][:aa] = EDbath(e,V).imag\n",
    "for i,u in enumerate(U2_ed):\n",
    "    a = np.loadtxt(f'{directory1}/ED_41_beta{beta:d}/checkpoint-{u:.2f}', dtype = 'float64')\n",
    "    e,V = a[:int(len(a)/2)], a[int(len(a)/2):]\n",
    "    x_test_ed[i+len(U1_ed)][:aa] = EDbath(e,V).imag\n",
    "    \n",
    "for i,u in enumerate(UU1):\n",
    "    a = np.loadtxt(f'{directory1}/ED_14_beta{beta:d}/checkpoint-{u:.2f}', dtype = 'float64')\n",
    "    e,V = a[:int(len(a)/2)], a[int(len(a)/2):]\n",
    "    x[i][:aa] = EDbath(e,V).imag\n",
    "for i,u in enumerate(UU2):\n",
    "    a = np.loadtxt(f'{directory1}/ED_41_beta{beta:d}/checkpoint-{u:.2f}', dtype = 'float64')\n",
    "    e,V = a[:int(len(a)/2)], a[int(len(a)/2):]\n",
    "    x[i+len(UU1)][:aa] = EDbath(e,V).imag\n",
    "    \n",
    "x_test_ed = -torch.FloatTensor(x_test_ed)\n",
    "x = -torch.FloatTensor(x)\n",
    "\n",
    "y_temp1 = np.array(U1_ed < U_c2_ed)\n",
    "y_temp2 = np.array(U2_ed < U_c1_ed)\n",
    "y_temp = np.concatenate([y_temp1, y_temp2])\n",
    "y_test_ed = np.stack([y_temp, ~y_temp], axis = 1)\n",
    "y_test_ed = torch.FloatTensor(y_test_ed)\n",
    "\n",
    "y_temp1 = np.array(UU1 < U_c2_ed)\n",
    "y_temp2 = np.array(UU2 < U_c1_ed)\n",
    "y_temp = np.concatenate([y_temp1, y_temp2])\n",
    "y = np.stack([y_temp, ~y_temp], axis = 1)\n",
    "y = torch.FloatTensor(y)\n",
    "UU_ed = np.concatenate((U1_ed, U2_ed))\n",
    "\n",
    "def divide(x_, y_):\n",
    "    mask = np.random.rand(len(x_)) < 0.9  # train : val = 4 : 1\n",
    "    x_train, x_val = x_[mask], x_[~mask]\n",
    "    y_train, y_val = y_[mask], y_[~mask]\n",
    "    return x_train, x_val, y_train, y_val\n",
    "x_train, x_val, y_train, y_val = divide(x, y)"
   ]
  },
  {
   "cell_type": "code",
   "execution_count": 13,
   "metadata": {},
   "outputs": [],
   "source": [
    "size = len(x[0])\n",
    "class Net(nn.Module):\n",
    "    def __init__(self, node = None, activate = None):\n",
    "        super(Net, self).__init__()\n",
    "        self.node = node\n",
    "        self.W1 = nn.Linear(size, self.node)#, bias=False)\n",
    "        self.b1 = nn.Linear(self.node, 1, bias=False)\n",
    "        self.W2 = nn.Linear(self.node, out_node)#, bias=False)\n",
    "        self.b2 = nn.Linear(out_node, 1, bias=False)\n",
    "        self.activate = activate()\n",
    "        self.sig = nn.Sigmoid()\n",
    "\n",
    "        #self.W1.weight.data.fill_(0)\n",
    "        nn.init.uniform_(self.W1.weight, -0.001, 0.001)\n",
    "        nn.init.xavier_normal_(self.W2.weight)\n",
    "        self.b1.weight.data.fill_(0)\n",
    "        self.b2.weight.data.fill_(0)\n",
    "        '''\n",
    "        if (activate==nn.Sigmoid or activate==nn.Tanh):\n",
    "            nn.init.xavier_normal_(self.W1.weight)\n",
    "            nn.init.xavier_normal_(self.W2.weight)\n",
    "        else:\n",
    "            nn.init.kaiming_normal_(self.W1.weight)\n",
    "            nn.init.kaiming_normal_(self.W2.weight)\n",
    "        '''\n",
    "\n",
    "    def forward(self, x):\n",
    "        x = self.activate(self.W1(x)+self.b1.weight.data)\n",
    "        x = self.W2(x)+self.b2.weight.data\n",
    "        return self.sig(x)\n",
    "\n",
    "    def loss1(self, output, y, reg): # regularization l1\n",
    "        regular = reg*(torch.norm(self.W1.weight.data, p=1)+torch.norm(self.W2.weight.data, p=1))\n",
    "        return F.binary_cross_entropy(output, y) + regular # cross entropy loss\n",
    "    def loss2(self, output, y, reg): # regularization l2\n",
    "        regular = reg*(torch.norm(self.W1.weight.data)**2+torch.norm(self.W2.weight.data)**2)\n",
    "        return F.binary_cross_entropy(output, y) + regular # cross entropy loss\n",
    "\n",
    "    def accuracy(self, output, y):\n",
    "        return np.average((output>=0.5)==y)"
   ]
  },
  {
   "cell_type": "code",
   "execution_count": 29,
   "metadata": {},
   "outputs": [
    {
     "name": "stdout",
     "output_type": "stream",
     "text": [
      "epoch = 0, training loss = 0.778081, valid loss = 0.770796, accuracy = 0.50000000\n",
      "epoch = 200, training loss = 0.430291, valid loss = 0.444462, accuracy = 0.98696682\n",
      "epoch = 400, training loss = 0.307168, valid loss = 0.318126, accuracy = 0.98578199\n",
      "epoch = 600, training loss = 0.229072, valid loss = 0.237387, accuracy = 0.98578199\n",
      "epoch = 800, training loss = 0.180499, valid loss = 0.186725, accuracy = 0.98578199\n",
      "epoch = 1000, training loss = 0.149719, valid loss = 0.154492, accuracy = 0.98578199\n",
      "epoch = 1200, training loss = 0.129389, valid loss = 0.133167, accuracy = 0.98578199\n",
      "epoch = 1400, training loss = 0.115345, valid loss = 0.118427, accuracy = 0.98578199\n",
      "epoch = 1600, training loss = 0.105255, valid loss = 0.107835, accuracy = 0.98578199\n",
      "epoch = 1800, training loss = 0.097759, valid loss = 0.099965, accuracy = 0.98578199\n",
      "epoch = 2000, training loss = 0.092033, valid loss = 0.093953, accuracy = 0.98578199\n"
     ]
    }
   ],
   "source": [
    "learning_rate = 1e-2\n",
    "reg = 1e-4\n",
    "func = nn.Sigmoid\n",
    "h_node = 10\n",
    "model = Net(node = h_node, activate = func)\n",
    "optimizer = optim.SGD(model.parameters(), lr = learning_rate)\n",
    "n_epochs = 2000\n",
    "train_loss, val_loss, test_acc = np.ones(n_epochs+1), np.ones(n_epochs+1), np.ones(n_epochs+1)\n",
    "for epoch in range (n_epochs+1):\n",
    "    loss = model.loss1(model.forward(x_train), y_train, reg)\n",
    "    optimizer.zero_grad()\n",
    "    loss.backward()\n",
    "    optimizer.step()\n",
    "    \n",
    "    valid_loss = model.loss1(model.forward(x_val), y_val, reg).item()\n",
    "    t_acc = model.accuracy(model.forward(x_test_ed), y_test_ed)\n",
    "    train_loss[epoch], val_loss[epoch], test_acc[epoch] = loss.item(), valid_loss, t_acc\n",
    "\n",
    "    if epoch%int(n_epochs/10) == 0:\n",
    "        print('epoch = %d, training loss = %.6f, valid loss = %.6f, accuracy = %.8f' \\\n",
    "                %(epoch, loss.item(), valid_loss, t_acc))"
   ]
  },
  {
   "cell_type": "code",
   "execution_count": 30,
   "metadata": {},
   "outputs": [
    {
     "data": {
      "image/png": "[encoded data removed]",
      "text/plain": [
       "<Figure size 864x288 with 2 Axes>"
      ]
     },
     "metadata": {
      "needs_background": "light"
     },
     "output_type": "display_data"
    }
   ],
   "source": [
    "fig, ax = plt.subplots(1, 1, figsize = (12, 4))\n",
    "op = {'vmin': -0.05, 'vmax': 0.05}\n",
    "OP = {'vmin': -1.5, 'vmax': 1.5}\n",
    "im1 = ax.imshow(np.array(model.W1.weight.data), aspect=10000/10, cmap='bwr', **op)\n",
    "#im2 = ax[1].imshow(Weight*number, aspect=2000/h_node, cmap='bwr', **OP)\n",
    "import matplotlib.ticker as ticker\n",
    "#ax[1].xaxis.set_major_locator(ticker.MultipleLocator(500))\n",
    "#ax[1].xaxis.set_major_formatter(ticker.FuncFormatter(lambda x, pos: r'%.1f'%((x-1000)/200)))\n",
    "#ax[1].set_xlabel(r'$\\omega$')\n",
    "ax.annotate('', xy=(0, -0.125), xytext=(1, -0.125), xycoords='axes fraction',\\\n",
    "               ha='center', va=\"center\", arrowprops={'arrowstyle':'|-|', 'shrinkA':0, 'shrinkB':0})\n",
    "\n",
    "ax.annotate('', xy=(0.25, 1.05), xytext=(0.75, 1.05), xycoords='axes fraction',\\\n",
    "               ha='center', va=\"center\", arrowprops={'arrowstyle':'<->', 'shrinkA':0, 'shrinkB':0})\n",
    "ax.annotate(r'$\\omega\\simeq0$', xy=(0.5, 1.1), xycoords = 'axes fraction', fontsize=15, ha='center')\n",
    "ax.annotate(r'$\\Delta$ imag', xy=(0.5, -0.2), xycoords = 'axes fraction', fontsize=15, ha='center')\n",
    "\n",
    "cd = plt.colorbar(im1, ax=ax)\n",
    "#cd = plt.colorbar(im2, ax=ax[1])\n",
    "#plt.savefig('NN_Weight_u0.001_10.png')\n",
    "plt.show()"
   ]
  },
  {
   "cell_type": "code",
   "execution_count": 31,
   "metadata": {},
   "outputs": [
    {
     "data": {
      "image/png": "[encoded data removed]",
      "text/plain": [
       "<Figure size 432x288 with 1 Axes>"
      ]
     },
     "metadata": {
      "needs_background": "light"
     },
     "output_type": "display_data"
    }
   ],
   "source": [
    "plt.axvline(U_c1_ed, c = '#ffee52', lw = '4',  alpha=0.8)\n",
    "plt.axvline(U_c2_ed, c = '#ffee52', lw = '4',  alpha=0.8)\n",
    "plt.plot(UU_ed, model.forward(x_test_ed).data[:,0], 'bo', mfc='none', label = 'trained')\n",
    "#plt.plot(UU_ed, x_test_ed[:,0]/torch.max(x_test_ed[:, 0]), 'g^', ms=6, mfc='none', label=r'$Im\\Delta(\\omega=0)$')\n",
    "plt.plot(UU_ed, np.average(x_test_ed[:,0:150], axis=1)/np.max(np.average(x_test_ed[:,0:150], axis=1)), 'g^', ms=6, mfc='none', label=r'$Im\\Delta(\\omega=0)$')\n",
    "plt.plot(UU_ed, y_test_ed[:,0], 'r.', ms = 5, label = 'actual')\n",
    "plt.xlim(1.5, 3.5)\n",
    "plt.xlabel('U')\n",
    "plt.annotate(r'$U_{c1}$', xy=(0.305, 0.2), xycoords = 'axes fraction', fontsize=15, ha='center')\n",
    "plt.annotate(r'$U_{c2}$', xy=(0.56, 0.2), xycoords = 'axes fraction', fontsize=15, ha='center')\n",
    "#plt.title(r'$\\beta=100$', fontsize=16)\n",
    "plt.legend()\n",
    "\n",
    "plt.tight_layout(w_pad=1.5)\n",
    "#plt.savefig('LogisticRegression_outputcubic_u0.001.png')"
   ]
  },
  {
   "cell_type": "markdown",
   "metadata": {},
   "source": [
    "## Saving result"
   ]
  },
  {
   "cell_type": "code",
   "execution_count": 496,
   "metadata": {},
   "outputs": [
    {
     "data": {
      "text/plain": [
       "(torch.Size([10, 2638]), torch.Size([2, 10]), (10, 2001), (10, 10000))"
      ]
     },
     "execution_count": 496,
     "metadata": {},
     "output_type": "execute_result"
    }
   ],
   "source": [
    "model.W1.weight.data.shape, model.W2.weight.data.shape, Weight.shape, W_iw_eff.shape"
   ]
  },
  {
   "cell_type": "code",
   "execution_count": 32,
   "metadata": {},
   "outputs": [],
   "source": [
    "np.savetxt('frozen_mat/iw_NN10_W1.txt', np.array(model.W1.weight.data))\n",
    "np.savetxt('frozen_mat/iw_NN10_W2.txt', np.array(model.W2.weight.data))\n",
    "np.savetxt('frozen_mat/iw_NN10_b1.txt', np.array(model.b1.weight.data))\n",
    "np.savetxt('frozen_mat/iw_NN10_b2.txt', np.array(model.b2.weight.data))"
   ]
  },
  {
   "cell_type": "code",
   "execution_count": null,
   "metadata": {},
   "outputs": [],
   "source": []
  }
 ],
 "metadata": {
  "kernelspec": {
   "display_name": "Python 3",
   "language": "python",
   "name": "python3"
  },
  "language_info": {
   "codemirror_mode": {
    "name": "ipython",
    "version": 3
   },
   "file_extension": ".py",
   "mimetype": "text/x-python",
   "name": "python",
   "nbconvert_exporter": "python",
   "pygments_lexer": "ipython3",
   "version": "3.8.5"
  }
 },
 "nbformat": 4,
 "nbformat_minor": 4
}
