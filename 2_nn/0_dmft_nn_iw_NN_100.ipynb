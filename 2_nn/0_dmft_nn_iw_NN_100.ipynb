{
 "cells": [
  {
   "cell_type": "code",
   "execution_count": 1,
   "metadata": {},
   "outputs": [],
   "source": [
    "import numpy as np\n",
    "import matplotlib.pyplot as plt\n",
    "import torch\n",
    "import torch.optim as optim\n",
    "import torch.nn as nn\n",
    "import torch.nn.functional as F\n",
    "import os.path as path\n",
    "import matplotlib.ticker as ticker\n",
    "from scipy.integrate import simps, trapz\n",
    "\n",
    "import matplotlib as mpl\n",
    "mpl.rcParams.update({\n",
    "    'font.family' : 'STIXGeneral',\n",
    "    'mathtext.fontset' : 'stix',\n",
    "    'xtick.direction' : 'in' ,\n",
    "    'xtick.labelsize' : 13 ,\n",
    "    'xtick.top' : True ,\n",
    "    'ytick.direction' : 'in' ,\n",
    "    'ytick.labelsize' : 13 ,\n",
    "    'ytick.right' : True ,\n",
    "    'axes.labelsize' : 16,\n",
    "    'legend.frameon' : False,\n",
    "    'legend.fontsize' : 13,\n",
    "    'legend.handlelength' : 1.5,\n",
    "    'savefig.dpi' : 600, \n",
    "    'savefig.bbox' : 'tight'\n",
    "})"
   ]
  },
  {
   "cell_type": "code",
   "execution_count": 2,
   "metadata": {},
   "outputs": [
    {
     "name": "stdout",
     "output_type": "stream",
     "text": [
      "/home/hyejin/Desktop/my_git/DMFT_NN/2_nn\r\n"
     ]
    }
   ],
   "source": [
    "!pwd"
   ]
  },
  {
   "cell_type": "code",
   "execution_count": 3,
   "metadata": {
    "scrolled": true
   },
   "outputs": [
    {
     "ename": "OSError",
     "evalue": "../1_dmftsolver/NRG/B_41_beta10000/Bethe-2.250.dat not found.",
     "output_type": "error",
     "traceback": [
      "\u001b[0;31m---------------------------------------------------------------------------\u001b[0m",
      "\u001b[0;31mOSError\u001b[0m                                   Traceback (most recent call last)",
      "\u001b[0;32m<ipython-input-3-dfc1f93a5185>\u001b[0m in \u001b[0;36m<module>\u001b[0;34m\u001b[0m\n\u001b[1;32m      3\u001b[0m \u001b[0mdirectory\u001b[0m \u001b[0;34m=\u001b[0m \u001b[0;34m'../1_dmftsolver/NRG'\u001b[0m\u001b[0;34m\u001b[0m\u001b[0;34m\u001b[0m\u001b[0m\n\u001b[1;32m      4\u001b[0m \u001b[0;34m\u001b[0m\u001b[0m\n\u001b[0;32m----> 5\u001b[0;31m w, A,Gr,Gi,_,_,_,_,_,_ = np.loadtxt(f'{directory}/B_41_beta10000/Bethe-{2.25:.3f}.dat', \\\n\u001b[0m\u001b[1;32m      6\u001b[0m                        unpack = True, dtype = 'complex128')\n\u001b[1;32m      7\u001b[0m \u001b[0;34m\u001b[0m\u001b[0m\n",
      "\u001b[0;32m~/anaconda3/lib/python3.8/site-packages/numpy/lib/npyio.py\u001b[0m in \u001b[0;36mloadtxt\u001b[0;34m(fname, dtype, comments, delimiter, converters, skiprows, usecols, unpack, ndmin, encoding, max_rows)\u001b[0m\n\u001b[1;32m    959\u001b[0m             \u001b[0mfname\u001b[0m \u001b[0;34m=\u001b[0m \u001b[0mos_fspath\u001b[0m\u001b[0;34m(\u001b[0m\u001b[0mfname\u001b[0m\u001b[0;34m)\u001b[0m\u001b[0;34m\u001b[0m\u001b[0;34m\u001b[0m\u001b[0m\n\u001b[1;32m    960\u001b[0m         \u001b[0;32mif\u001b[0m \u001b[0m_is_string_like\u001b[0m\u001b[0;34m(\u001b[0m\u001b[0mfname\u001b[0m\u001b[0;34m)\u001b[0m\u001b[0;34m:\u001b[0m\u001b[0;34m\u001b[0m\u001b[0;34m\u001b[0m\u001b[0m\n\u001b[0;32m--> 961\u001b[0;31m             \u001b[0mfh\u001b[0m \u001b[0;34m=\u001b[0m \u001b[0mnp\u001b[0m\u001b[0;34m.\u001b[0m\u001b[0mlib\u001b[0m\u001b[0;34m.\u001b[0m\u001b[0m_datasource\u001b[0m\u001b[0;34m.\u001b[0m\u001b[0mopen\u001b[0m\u001b[0;34m(\u001b[0m\u001b[0mfname\u001b[0m\u001b[0;34m,\u001b[0m \u001b[0;34m'rt'\u001b[0m\u001b[0;34m,\u001b[0m \u001b[0mencoding\u001b[0m\u001b[0;34m=\u001b[0m\u001b[0mencoding\u001b[0m\u001b[0;34m)\u001b[0m\u001b[0;34m\u001b[0m\u001b[0;34m\u001b[0m\u001b[0m\n\u001b[0m\u001b[1;32m    962\u001b[0m             \u001b[0mfencoding\u001b[0m \u001b[0;34m=\u001b[0m \u001b[0mgetattr\u001b[0m\u001b[0;34m(\u001b[0m\u001b[0mfh\u001b[0m\u001b[0;34m,\u001b[0m \u001b[0;34m'encoding'\u001b[0m\u001b[0;34m,\u001b[0m \u001b[0;34m'latin1'\u001b[0m\u001b[0;34m)\u001b[0m\u001b[0;34m\u001b[0m\u001b[0;34m\u001b[0m\u001b[0m\n\u001b[1;32m    963\u001b[0m             \u001b[0mfh\u001b[0m \u001b[0;34m=\u001b[0m \u001b[0miter\u001b[0m\u001b[0;34m(\u001b[0m\u001b[0mfh\u001b[0m\u001b[0;34m)\u001b[0m\u001b[0;34m\u001b[0m\u001b[0;34m\u001b[0m\u001b[0m\n",
      "\u001b[0;32m~/anaconda3/lib/python3.8/site-packages/numpy/lib/_datasource.py\u001b[0m in \u001b[0;36mopen\u001b[0;34m(path, mode, destpath, encoding, newline)\u001b[0m\n\u001b[1;32m    193\u001b[0m \u001b[0;34m\u001b[0m\u001b[0m\n\u001b[1;32m    194\u001b[0m     \u001b[0mds\u001b[0m \u001b[0;34m=\u001b[0m \u001b[0mDataSource\u001b[0m\u001b[0;34m(\u001b[0m\u001b[0mdestpath\u001b[0m\u001b[0;34m)\u001b[0m\u001b[0;34m\u001b[0m\u001b[0;34m\u001b[0m\u001b[0m\n\u001b[0;32m--> 195\u001b[0;31m     \u001b[0;32mreturn\u001b[0m \u001b[0mds\u001b[0m\u001b[0;34m.\u001b[0m\u001b[0mopen\u001b[0m\u001b[0;34m(\u001b[0m\u001b[0mpath\u001b[0m\u001b[0;34m,\u001b[0m \u001b[0mmode\u001b[0m\u001b[0;34m,\u001b[0m \u001b[0mencoding\u001b[0m\u001b[0;34m=\u001b[0m\u001b[0mencoding\u001b[0m\u001b[0;34m,\u001b[0m \u001b[0mnewline\u001b[0m\u001b[0;34m=\u001b[0m\u001b[0mnewline\u001b[0m\u001b[0;34m)\u001b[0m\u001b[0;34m\u001b[0m\u001b[0;34m\u001b[0m\u001b[0m\n\u001b[0m\u001b[1;32m    196\u001b[0m \u001b[0;34m\u001b[0m\u001b[0m\n\u001b[1;32m    197\u001b[0m \u001b[0;34m\u001b[0m\u001b[0m\n",
      "\u001b[0;32m~/anaconda3/lib/python3.8/site-packages/numpy/lib/_datasource.py\u001b[0m in \u001b[0;36mopen\u001b[0;34m(self, path, mode, encoding, newline)\u001b[0m\n\u001b[1;32m    533\u001b[0m                                       encoding=encoding, newline=newline)\n\u001b[1;32m    534\u001b[0m         \u001b[0;32melse\u001b[0m\u001b[0;34m:\u001b[0m\u001b[0;34m\u001b[0m\u001b[0;34m\u001b[0m\u001b[0m\n\u001b[0;32m--> 535\u001b[0;31m             \u001b[0;32mraise\u001b[0m \u001b[0mIOError\u001b[0m\u001b[0;34m(\u001b[0m\u001b[0;34m\"%s not found.\"\u001b[0m \u001b[0;34m%\u001b[0m \u001b[0mpath\u001b[0m\u001b[0;34m)\u001b[0m\u001b[0;34m\u001b[0m\u001b[0;34m\u001b[0m\u001b[0m\n\u001b[0m\u001b[1;32m    536\u001b[0m \u001b[0;34m\u001b[0m\u001b[0m\n\u001b[1;32m    537\u001b[0m \u001b[0;34m\u001b[0m\u001b[0m\n",
      "\u001b[0;31mOSError\u001b[0m: ../1_dmftsolver/NRG/B_41_beta10000/Bethe-2.250.dat not found."
     ]
    }
   ],
   "source": [
    "D = 1\n",
    "out_node = 2\n",
    "directory = '../1_dmftsolver/NRG'\n",
    "\n",
    "w, A,Gr,Gi,_,_,_,_,_,_ = np.loadtxt(f'{directory}/B_41_beta10000/Bethe-{2.25:.3f}.dat', \\\n",
    "                       unpack = True, dtype = 'complex128')\n",
    "\n",
    "plt.plot(w.real, np.arange(len(w)))\n",
    "plt.xlabel(r'real frequency $\\omega$')\n",
    "plt.ylabel('cumulant number')\n",
    "plt.axhspan(1319-500, 1319+500, alpha=0.5, color='#ffee52')\n",
    "plt.annotate(r'$\\omega\\simeq0$', xy=(0.4, 0.475), xycoords = 'axes fraction', fontsize=15, ha='center')\n",
    "\n",
    "plt.show()\n",
    "\n",
    "number, bins, patches = plt.hist(w.real, bins=2001)\n",
    "plt.xlabel(r'real frequency $\\omega$')\n",
    "plt.ylabel('index number')\n"
   ]
  },
  {
   "cell_type": "markdown",
   "metadata": {},
   "source": [
    "# Data"
   ]
  },
  {
   "cell_type": "markdown",
   "metadata": {},
   "source": [
    "### ED data"
   ]
  },
  {
   "cell_type": "code",
   "execution_count": 10,
   "metadata": {},
   "outputs": [],
   "source": [
    "def EDbath(e, V):\n",
    "    return np.array([np.sum(V**2/(1j*omega[i]-e)) for i in range (aa)])\n",
    "\n",
    "beta = 100\n",
    "directory1 = '../1_dmftsolver/ED'\n",
    "a = np.loadtxt(f'{directory1}/ED_14_beta{beta:d}/checkpoint-{3.00:.2f}', dtype = 'float64')\n",
    "iw, Giwr, Giwi = np.loadtxt(f'{directory1}/ED_14_beta{beta:d}/Giw-{3.00:.2f}.dat',\\\n",
    "                                       unpack = True, dtype = 'float64')\n",
    "e, V = a[:5], a[5:]\n",
    "\n",
    "aa = 10000\n",
    "omega = np.pi/beta * (2*np.arange(aa)+1)"
   ]
  },
  {
   "cell_type": "code",
   "execution_count": 12,
   "metadata": {
    "scrolled": true
   },
   "outputs": [],
   "source": [
    "beta = 100\n",
    "directory1 = '../1_dmftsolver/ED'\n",
    "up_num = 211\n",
    "dn_num = 211\n",
    "U = np.array([0.01*i for i in range(50, 501)])\n",
    "U1_ed = np.zeros(up_num, dtype = 'float64')\n",
    "U2_ed = np.zeros(dn_num, dtype = 'float64')\n",
    "U_c1_ed, U_c2_ed = 2.4, 2.93\n",
    "\n",
    "\n",
    "n = 0\n",
    "for i, u in enumerate(U):\n",
    "    if path.isfile(f'{directory1}/ED_14_beta{beta:d}/checkpoint-{u:.2f}')==False: continue\n",
    "    U1_ed[n] = u\n",
    "    n += 1\n",
    "n = 0\n",
    "for i, u in enumerate(U):\n",
    "    if path.isfile(f'{directory1}/ED_41_beta{beta:d}/checkpoint-{u:.2f}')==False: continue\n",
    "    U2_ed[n] = u\n",
    "    n += 1\n",
    "\n",
    "x_test_ed = np.zeros((len(U1_ed)+len(U2_ed), 10000), dtype = 'float64')\n",
    "UU1 = U1_ed[U1_ed<2.0]\n",
    "UU2 = U2_ed[U2_ed>3.0]\n",
    "x = np.zeros((len(UU1)+len(UU2), 10000), dtype = 'float64')\n",
    "\n",
    "for i,u in enumerate(U1_ed):\n",
    "    a = np.loadtxt(f'{directory1}/ED_14_beta{beta:d}/checkpoint-{u:.2f}', dtype = 'float64')\n",
    "    e,V = a[:int(len(a)/2)], a[int(len(a)/2):]\n",
    "    x_test_ed[i][:aa] = EDbath(e,V).imag\n",
    "for i,u in enumerate(U2_ed):\n",
    "    a = np.loadtxt(f'{directory1}/ED_41_beta{beta:d}/checkpoint-{u:.2f}', dtype = 'float64')\n",
    "    e,V = a[:int(len(a)/2)], a[int(len(a)/2):]\n",
    "    x_test_ed[i+len(U1_ed)][:aa] = EDbath(e,V).imag\n",
    "    \n",
    "for i,u in enumerate(UU1):\n",
    "    a = np.loadtxt(f'{directory1}/ED_14_beta{beta:d}/checkpoint-{u:.2f}', dtype = 'float64')\n",
    "    e,V = a[:int(len(a)/2)], a[int(len(a)/2):]\n",
    "    x[i][:aa] = EDbath(e,V).imag\n",
    "for i,u in enumerate(UU2):\n",
    "    a = np.loadtxt(f'{directory1}/ED_41_beta{beta:d}/checkpoint-{u:.2f}', dtype = 'float64')\n",
    "    e,V = a[:int(len(a)/2)], a[int(len(a)/2):]\n",
    "    x[i+len(UU1)][:aa] = EDbath(e,V).imag\n",
    "    \n",
    "x_test_ed = -torch.FloatTensor(x_test_ed)\n",
    "x = -torch.FloatTensor(x)\n",
    "\n",
    "y_temp1 = np.array(U1_ed < U_c2_ed)\n",
    "y_temp2 = np.array(U2_ed < U_c1_ed)\n",
    "y_temp = np.concatenate([y_temp1, y_temp2])\n",
    "y_test_ed = np.stack([y_temp, ~y_temp], axis = 1)\n",
    "y_test_ed = torch.FloatTensor(y_test_ed)\n",
    "\n",
    "y_temp1 = np.array(UU1 < U_c2_ed)\n",
    "y_temp2 = np.array(UU2 < U_c1_ed)\n",
    "y_temp = np.concatenate([y_temp1, y_temp2])\n",
    "y = np.stack([y_temp, ~y_temp], axis = 1)\n",
    "y = torch.FloatTensor(y)\n",
    "UU_ed = np.concatenate((U1_ed, U2_ed))\n",
    "\n",
    "def divide(x_, y_):\n",
    "    mask = np.random.rand(len(x_)) < 0.9  # train : val = 4 : 1\n",
    "    x_train, x_val = x_[mask], x_[~mask]\n",
    "    y_train, y_val = y_[mask], y_[~mask]\n",
    "    return x_train, x_val, y_train, y_val\n",
    "x_train, x_val, y_train, y_val = divide(x, y)"
   ]
  },
  {
   "cell_type": "code",
   "execution_count": 13,
   "metadata": {},
   "outputs": [],
   "source": [
    "size = len(x[0])\n",
    "class Net(nn.Module):\n",
    "    def __init__(self, node = None, activate = None):\n",
    "        super(Net, self).__init__()\n",
    "        self.node = node\n",
    "        self.W1 = nn.Linear(size, self.node)#, bias=False)\n",
    "        self.b1 = nn.Linear(self.node, 1, bias=False)\n",
    "        self.W2 = nn.Linear(self.node, out_node)#, bias=False)\n",
    "        self.b2 = nn.Linear(out_node, 1, bias=False)\n",
    "        self.activate = activate()\n",
    "        self.sig = nn.Sigmoid()\n",
    "\n",
    "        #self.W1.weight.data.fill_(0)\n",
    "        nn.init.uniform_(self.W1.weight, -0.001, 0.001)\n",
    "        nn.init.xavier_normal_(self.W2.weight)\n",
    "        self.b1.weight.data.fill_(0)\n",
    "        self.b2.weight.data.fill_(0)\n",
    "        '''\n",
    "        if (activate==nn.Sigmoid or activate==nn.Tanh):\n",
    "            nn.init.xavier_normal_(self.W1.weight)\n",
    "            nn.init.xavier_normal_(self.W2.weight)\n",
    "        else:\n",
    "            nn.init.kaiming_normal_(self.W1.weight)\n",
    "            nn.init.kaiming_normal_(self.W2.weight)\n",
    "        '''\n",
    "\n",
    "    def forward(self, x):\n",
    "        x = self.activate(self.W1(x)+self.b1.weight.data)\n",
    "        x = self.W2(x)+self.b2.weight.data\n",
    "        return self.sig(x)\n",
    "\n",
    "    def loss1(self, output, y, reg): # regularization l1\n",
    "        regular = reg*(torch.norm(self.W1.weight.data, p=1)+torch.norm(self.W2.weight.data, p=1))\n",
    "        return F.binary_cross_entropy(output, y) + regular # cross entropy loss\n",
    "    def loss2(self, output, y, reg): # regularization l2\n",
    "        regular = reg*(torch.norm(self.W1.weight.data)**2+torch.norm(self.W2.weight.data)**2)\n",
    "        return F.binary_cross_entropy(output, y) + regular # cross entropy loss\n",
    "\n",
    "    def accuracy(self, output, y):\n",
    "        return np.average((output>=0.5)==y)"
   ]
  },
  {
   "cell_type": "code",
   "execution_count": 18,
   "metadata": {},
   "outputs": [
    {
     "name": "stdout",
     "output_type": "stream",
     "text": [
      "epoch = 0, training loss = 0.645382, valid loss = 0.644036, accuracy = 0.92417062\n",
      "epoch = 2000, training loss = 0.437191, valid loss = 0.432805, accuracy = 0.93601896\n",
      "epoch = 4000, training loss = 0.255044, valid loss = 0.250322, accuracy = 0.93838863\n",
      "epoch = 6000, training loss = 0.174901, valid loss = 0.171299, accuracy = 0.94075829\n",
      "epoch = 8000, training loss = 0.141949, valid loss = 0.139262, accuracy = 0.94075829\n",
      "epoch = 10000, training loss = 0.126561, valid loss = 0.124482, accuracy = 0.94312796\n"
     ]
    },
    {
     "ename": "KeyboardInterrupt",
     "evalue": "",
     "output_type": "error",
     "traceback": [
      "\u001b[0;31m---------------------------------------------------------------------------\u001b[0m",
      "\u001b[0;31mKeyboardInterrupt\u001b[0m                         Traceback (most recent call last)",
      "\u001b[0;32m<ipython-input-18-5eeada47ef73>\u001b[0m in \u001b[0;36m<module>\u001b[0;34m\u001b[0m\n\u001b[1;32m     11\u001b[0m     \u001b[0mloss\u001b[0m \u001b[0;34m=\u001b[0m \u001b[0mmodel\u001b[0m\u001b[0;34m.\u001b[0m\u001b[0mloss1\u001b[0m\u001b[0;34m(\u001b[0m\u001b[0mmodel\u001b[0m\u001b[0;34m.\u001b[0m\u001b[0mforward\u001b[0m\u001b[0;34m(\u001b[0m\u001b[0mx_train\u001b[0m\u001b[0;34m)\u001b[0m\u001b[0;34m,\u001b[0m \u001b[0my_train\u001b[0m\u001b[0;34m,\u001b[0m \u001b[0mreg\u001b[0m\u001b[0;34m)\u001b[0m\u001b[0;34m\u001b[0m\u001b[0;34m\u001b[0m\u001b[0m\n\u001b[1;32m     12\u001b[0m     \u001b[0moptimizer\u001b[0m\u001b[0;34m.\u001b[0m\u001b[0mzero_grad\u001b[0m\u001b[0;34m(\u001b[0m\u001b[0;34m)\u001b[0m\u001b[0;34m\u001b[0m\u001b[0;34m\u001b[0m\u001b[0m\n\u001b[0;32m---> 13\u001b[0;31m     \u001b[0mloss\u001b[0m\u001b[0;34m.\u001b[0m\u001b[0mbackward\u001b[0m\u001b[0;34m(\u001b[0m\u001b[0;34m)\u001b[0m\u001b[0;34m\u001b[0m\u001b[0;34m\u001b[0m\u001b[0m\n\u001b[0m\u001b[1;32m     14\u001b[0m     \u001b[0moptimizer\u001b[0m\u001b[0;34m.\u001b[0m\u001b[0mstep\u001b[0m\u001b[0;34m(\u001b[0m\u001b[0;34m)\u001b[0m\u001b[0;34m\u001b[0m\u001b[0;34m\u001b[0m\u001b[0m\n\u001b[1;32m     15\u001b[0m \u001b[0;34m\u001b[0m\u001b[0m\n",
      "\u001b[0;32m~/anaconda3/lib/python3.8/site-packages/torch/tensor.py\u001b[0m in \u001b[0;36mbackward\u001b[0;34m(self, gradient, retain_graph, create_graph)\u001b[0m\n\u001b[1;32m    219\u001b[0m                 \u001b[0mretain_graph\u001b[0m\u001b[0;34m=\u001b[0m\u001b[0mretain_graph\u001b[0m\u001b[0;34m,\u001b[0m\u001b[0;34m\u001b[0m\u001b[0;34m\u001b[0m\u001b[0m\n\u001b[1;32m    220\u001b[0m                 create_graph=create_graph)\n\u001b[0;32m--> 221\u001b[0;31m         \u001b[0mtorch\u001b[0m\u001b[0;34m.\u001b[0m\u001b[0mautograd\u001b[0m\u001b[0;34m.\u001b[0m\u001b[0mbackward\u001b[0m\u001b[0;34m(\u001b[0m\u001b[0mself\u001b[0m\u001b[0;34m,\u001b[0m \u001b[0mgradient\u001b[0m\u001b[0;34m,\u001b[0m \u001b[0mretain_graph\u001b[0m\u001b[0;34m,\u001b[0m \u001b[0mcreate_graph\u001b[0m\u001b[0;34m)\u001b[0m\u001b[0;34m\u001b[0m\u001b[0;34m\u001b[0m\u001b[0m\n\u001b[0m\u001b[1;32m    222\u001b[0m \u001b[0;34m\u001b[0m\u001b[0m\n\u001b[1;32m    223\u001b[0m     \u001b[0;32mdef\u001b[0m \u001b[0mregister_hook\u001b[0m\u001b[0;34m(\u001b[0m\u001b[0mself\u001b[0m\u001b[0;34m,\u001b[0m \u001b[0mhook\u001b[0m\u001b[0;34m)\u001b[0m\u001b[0;34m:\u001b[0m\u001b[0;34m\u001b[0m\u001b[0;34m\u001b[0m\u001b[0m\n",
      "\u001b[0;32m~/anaconda3/lib/python3.8/site-packages/torch/autograd/__init__.py\u001b[0m in \u001b[0;36mbackward\u001b[0;34m(tensors, grad_tensors, retain_graph, create_graph, grad_variables)\u001b[0m\n\u001b[1;32m    128\u001b[0m         \u001b[0mretain_graph\u001b[0m \u001b[0;34m=\u001b[0m \u001b[0mcreate_graph\u001b[0m\u001b[0;34m\u001b[0m\u001b[0;34m\u001b[0m\u001b[0m\n\u001b[1;32m    129\u001b[0m \u001b[0;34m\u001b[0m\u001b[0m\n\u001b[0;32m--> 130\u001b[0;31m     Variable._execution_engine.run_backward(\n\u001b[0m\u001b[1;32m    131\u001b[0m         \u001b[0mtensors\u001b[0m\u001b[0;34m,\u001b[0m \u001b[0mgrad_tensors_\u001b[0m\u001b[0;34m,\u001b[0m \u001b[0mretain_graph\u001b[0m\u001b[0;34m,\u001b[0m \u001b[0mcreate_graph\u001b[0m\u001b[0;34m,\u001b[0m\u001b[0;34m\u001b[0m\u001b[0;34m\u001b[0m\u001b[0m\n\u001b[1;32m    132\u001b[0m         allow_unreachable=True)  # allow_unreachable flag\n",
      "\u001b[0;31mKeyboardInterrupt\u001b[0m: "
     ]
    }
   ],
   "source": [
    "learning_rate = 1e-2\n",
    "reg = 1e-4\n",
    "func = nn.Sigmoid\n",
    "out_node = 2\n",
    "h_node = 100\n",
    "#model = Net(node = h_node, activate = func)\n",
    "optimizer = optim.SGD(model.parameters(), lr = learning_rate)\n",
    "n_epochs = 20000\n",
    "train_loss, val_loss, test_acc = np.ones(n_epochs+1), np.ones(n_epochs+1), np.ones(n_epochs+1)\n",
    "for epoch in range (n_epochs+1):\n",
    "    loss = model.loss1(model.forward(x_train), y_train, reg)\n",
    "    optimizer.zero_grad()\n",
    "    loss.backward()\n",
    "    optimizer.step()\n",
    "    \n",
    "    valid_loss = model.loss1(model.forward(x_val), y_val, reg).item()\n",
    "    t_acc = model.accuracy(model.forward(x_test_ed), y_test_ed)\n",
    "    train_loss[epoch], val_loss[epoch], test_acc[epoch] = loss.item(), valid_loss, t_acc\n",
    "\n",
    "    if epoch%int(n_epochs/10) == 0:\n",
    "        print('epoch = %d, training loss = %.6f, valid loss = %.6f, accuracy = %.8f' \\\n",
    "                %(epoch, loss.item(), valid_loss, t_acc))"
   ]
  },
  {
   "cell_type": "code",
   "execution_count": 19,
   "metadata": {},
   "outputs": [
    {
     "data": {
      "image/png": "[encoded data removed]",
      "text/plain": [
       "<Figure size 864x288 with 2 Axes>"
      ]
     },
     "metadata": {
      "needs_background": "light"
     },
     "output_type": "display_data"
    }
   ],
   "source": [
    "fig, ax = plt.subplots(1, 1, figsize = (12, 4))\n",
    "op = {'vmin': -0.01, 'vmax': 0.01}\n",
    "OP = {'vmin': -1.5, 'vmax': 1.5}\n",
    "im1 = ax.imshow(np.array(model.W1.weight.data), aspect=10000/100, cmap='bwr', **op)\n",
    "#im2 = ax[1].imshow(Weight*number, aspect=2000/h_node, cmap='bwr', **OP)\n",
    "import matplotlib.ticker as ticker\n",
    "#ax[1].xaxis.set_major_locator(ticker.MultipleLocator(500))\n",
    "#ax[1].xaxis.set_major_formatter(ticker.FuncFormatter(lambda x, pos: r'%.1f'%((x-1000)/200)))\n",
    "#ax[1].set_xlabel(r'$\\omega$')\n",
    "ax.annotate('', xy=(0, -0.125), xytext=(1, -0.125), xycoords='axes fraction',\\\n",
    "               ha='center', va=\"center\", arrowprops={'arrowstyle':'|-|', 'shrinkA':0, 'shrinkB':0})\n",
    "\n",
    "ax.annotate('', xy=(0.25, 1.05), xytext=(0.75, 1.05), xycoords='axes fraction',\\\n",
    "               ha='center', va=\"center\", arrowprops={'arrowstyle':'<->', 'shrinkA':0, 'shrinkB':0})\n",
    "ax.annotate(r'$\\omega\\simeq0$', xy=(0.5, 1.1), xycoords = 'axes fraction', fontsize=15, ha='center')\n",
    "ax.annotate(r'$\\Delta$ imag', xy=(0.5, -0.2), xycoords = 'axes fraction', fontsize=15, ha='center')\n",
    "\n",
    "cd = plt.colorbar(im1, ax=ax)\n",
    "#cd = plt.colorbar(im2, ax=ax[1])\n",
    "#plt.savefig('NN_Weight_u0.001_10.png')\n",
    "plt.show()"
   ]
  },
  {
   "cell_type": "code",
   "execution_count": 22,
   "metadata": {},
   "outputs": [
    {
     "data": {
      "image/png": "[encoded data removed]",
      "text/plain": [
       "<Figure size 432x288 with 1 Axes>"
      ]
     },
     "metadata": {
      "needs_background": "light"
     },
     "output_type": "display_data"
    }
   ],
   "source": [
    "plt.axvline(U_c1_ed, c = '#ffee52', lw = '4',  alpha=0.8)\n",
    "plt.axvline(U_c2_ed, c = '#ffee52', lw = '4',  alpha=0.8)\n",
    "plt.plot(UU_ed, model.forward(x_test_ed).data[:,0], 'bo', mfc='none', label = 'trained')\n",
    "#plt.plot(UU_ed, x_test_ed[:,0]/torch.max(x_test_ed[:, 0]), 'g^', ms=6, mfc='none', label=r'$Im\\Delta(\\omega=0)$')\n",
    "#plt.plot(UU_ed, np.average(x_test_ed[:,0:150], axis=1)/np.max(np.average(x_test_ed[:,0:150], axis=1)), 'g^', ms=6, mfc='none', label=r'$Im\\Delta(\\omega=0)$')\n",
    "plt.plot(UU_ed, y_test_ed[:,0], 'r.', ms = 5, label = 'actual')\n",
    "plt.xlim(1.5, 3.5)\n",
    "plt.xlabel('U')\n",
    "plt.annotate(r'$U_{c1}$', xy=(0.305, 0.2), xycoords = 'axes fraction', fontsize=15, ha='center')\n",
    "plt.annotate(r'$U_{c2}$', xy=(0.56, 0.2), xycoords = 'axes fraction', fontsize=15, ha='center')\n",
    "#plt.title(r'$\\beta=100$', fontsize=16)\n",
    "plt.legend()\n",
    "\n",
    "plt.tight_layout(w_pad=1.5)\n",
    "#plt.savefig('LogisticRegression_outputcubic_u0.001.png')"
   ]
  },
  {
   "cell_type": "markdown",
   "metadata": {},
   "source": [
    "## Saving result"
   ]
  },
  {
   "cell_type": "code",
   "execution_count": 38,
   "metadata": {},
   "outputs": [
    {
     "data": {
      "text/plain": [
       "(torch.Size([100, 10000]), torch.Size([2, 100]))"
      ]
     },
     "execution_count": 38,
     "metadata": {},
     "output_type": "execute_result"
    }
   ],
   "source": [
    "model.W1.weight.data.shape, model.W2.weight.data.shape"
   ]
  },
  {
   "cell_type": "code",
   "execution_count": 80,
   "metadata": {},
   "outputs": [],
   "source": [
    "torch.save(model.W1.weight.data, 'frozen_mat/iw_NN100_W1.pt')\n",
    "torch.save(model.W2.weight.data, 'frozen_mat/iw_NN100_W2.pt')\n",
    "torch.save(model.b1.weight.data, 'frozen_mat/iw_NN100_b1.pt')\n",
    "torch.save(model.b2.weight.data, 'frozen_mat/iw_NN100_b2.pt')"
   ]
  },
  {
   "cell_type": "code",
   "execution_count": 85,
   "metadata": {},
   "outputs": [
    {
     "data": {
      "text/plain": [
       "tensor([ 0.4195, -0.9049,  0.8431, -0.0445, -0.7510, -0.7479,  0.8529,  0.8971,\n",
       "         0.7434,  1.0910,  0.2069,  0.5765, -0.5259,  0.2681, -1.1487, -0.9524,\n",
       "        -1.0809, -0.8065, -0.0622, -0.7618,  0.3829,  0.8541,  1.0798, -0.9763,\n",
       "        -0.9821, -0.4679,  1.0614,  0.1158, -0.8669,  0.9203,  1.1054,  0.9830,\n",
       "        -1.1095,  0.7968, -0.1612,  0.9340, -0.0402,  1.5542, -0.6566, -0.8957,\n",
       "         0.1385, -0.6714,  0.0450,  0.3044,  0.1771, -1.0810,  0.9254,  0.7480,\n",
       "         0.8577, -0.6188,  0.1721, -0.8725,  0.9769,  0.2498,  0.6788, -3.4423,\n",
       "        -0.6988, -1.0370, -0.9456, -0.6134,  0.8273,  1.0059,  0.6985,  0.5595,\n",
       "         0.5783,  0.8478,  0.9607, -0.6886,  1.6248,  0.2372, -0.7907, -0.8960,\n",
       "         0.5114, -0.5664,  0.5726, -0.8330, -0.8301, -0.7113,  0.9095, -0.9682,\n",
       "        -0.9286, -0.9932,  0.9774, -0.8052, -0.3468, -0.2278, -0.8094, -0.9977,\n",
       "         0.2849,  0.5261, -0.1151,  0.9682,  0.3173,  0.2412, -0.9534,  0.3034,\n",
       "         0.9452,  0.6649, -0.4453,  0.7664], grad_fn=<AddBackward0>)"
      ]
     },
     "execution_count": 85,
     "metadata": {},
     "output_type": "execute_result"
    }
   ],
   "source": [
    "model.W1(torch.ones(10000))"
   ]
  },
  {
   "cell_type": "code",
   "execution_count": 89,
   "metadata": {},
   "outputs": [
    {
     "data": {
      "text/plain": [
       "<All keys matched successfully>"
      ]
     },
     "execution_count": 89,
     "metadata": {},
     "output_type": "execute_result"
    }
   ],
   "source": [
    "net = Net(node = h_node, activate = func)\n",
    "torch.save(model.state_dict(), 'iNN100model.pth')\n",
    "net.load_state_dict(torch.load('iNN100model.pth'))"
   ]
  },
  {
   "cell_type": "code",
   "execution_count": null,
   "metadata": {},
   "outputs": [],
   "source": []
  }
 ],
 "metadata": {
  "kernelspec": {
   "display_name": "Python 3",
   "language": "python",
   "name": "python3"
  },
  "language_info": {
   "codemirror_mode": {
    "name": "ipython",
    "version": 3
   },
   "file_extension": ".py",
   "mimetype": "text/x-python",
   "name": "python",
   "nbconvert_exporter": "python",
   "pygments_lexer": "ipython3",
   "version": "3.8.5"
  }
 },
 "nbformat": 4,
 "nbformat_minor": 4
}
