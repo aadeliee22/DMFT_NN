{
 "cells": [
  {
   "cell_type": "code",
   "execution_count": 1,
   "metadata": {},
   "outputs": [],
   "source": [
    "import numpy as np\n",
    "from scipy.integrate import simps, trapz\n",
    "import matplotlib.pyplot as pltmport "
   ]
  },
  {
   "cell_type": "code",
   "execution_count": null,
   "metadata": {},
   "outputs": [],
   "source": [
    "U = np.array([0.20,0.50,0.80,1.00,1.20,1.50,1.80,2.00,2.20,2.25,2.30,2.35])\n",
    "docc1 = np.zeros(len(U), dtype='complex128')\n",
    "docc2 = np.zeros(len(U), dtype='complex128')\n",
    "chiNN = np.zeros(len(U), dtype='complex128')\n",
    "chiSS = np.zeros(len(U), dtype='complex128')\n",
    "for i, u in enumerate(U):\n",
    "    w, A, G_r, G_i, S_r, S_i, Xn_r, Xn_i, Xs_r, Xs_i = np.loadtxt(f'./doccprac/Bethe-{u:.2f}.dat', \\\n",
    "                                                                  unpack=True, dtype = 'float64')\n",
    "    chiNN[i] = simps(Xn_r+1j*Xn_i, w)\n",
    "    chiSS[i] = simps(Xs_r+1j*Xs_i, w)\n",
    "\n",
    "docc1 = chiNN-chiSS\n",
    "docc2 = 4*chiNN-chiSS\n",
    "plt.plot(U, docc1.real)\n",
    "plt.plot(U, docc2.real)\n",
    "plt.plot(U, f(U))\n",
    "plt.ylim(0, 0.25)\n",
    "plt.grid(True)"
   ]
  }
 ],
 "metadata": {
  "kernelspec": {
   "display_name": "Python 3",
   "language": "python",
   "name": "python3"
  },
  "language_info": {
   "codemirror_mode": {
    "name": "ipython",
    "version": 3
   },
   "file_extension": ".py",
   "mimetype": "text/x-python",
   "name": "python",
   "nbconvert_exporter": "python",
   "pygments_lexer": "ipython3",
   "version": "3.8.5"
  }
 },
 "nbformat": 4,
 "nbformat_minor": 4
}
