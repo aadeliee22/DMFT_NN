{
 "cells": [
  {
   "cell_type": "code",
   "execution_count": 1,
   "metadata": {},
   "outputs": [],
   "source": [
    "import numpy as np\n",
    "import matplotlib.pyplot as plt\n",
    "import torch\n",
    "import torch.optim as optim\n",
    "import torch.nn as nn\n",
    "import torch.nn.functional as F\n",
    "import os.path as path\n",
    "import matplotlib.ticker as ticker\n",
    "from scipy.integrate import simps, trapz\n",
    "\n",
    "\n",
    "import matplotlib as mpl\n",
    "mpl.rcParams.update({\n",
    "    'font.family' : 'STIXGeneral',\n",
    "    'mathtext.fontset' : 'stix',\n",
    "    'xtick.direction' : 'in' ,\n",
    "    'xtick.labelsize' : 13 ,\n",
    "    'xtick.top' : True ,\n",
    "    'ytick.direction' : 'in' ,\n",
    "    'ytick.labelsize' : 13 ,\n",
    "    'ytick.right' : True ,\n",
    "    'axes.labelsize' : 16,\n",
    "    'legend.frameon' : False,\n",
    "    'legend.fontsize' : 13,\n",
    "    'legend.handlelength' : 1.5,\n",
    "    'savefig.dpi' : 600, \n",
    "    'savefig.bbox' : 'tight'\n",
    "})"
   ]
  },
  {
   "cell_type": "code",
   "execution_count": 3,
   "metadata": {},
   "outputs": [
    {
     "data": {
      "image/png": "[encoded data removed]",
      "text/plain": [
       "<Figure size 432x288 with 1 Axes>"
      ]
     },
     "metadata": {
      "needs_background": "light"
     },
     "output_type": "display_data"
    }
   ],
   "source": [
    "D = 1\n",
    "out_node = 2\n",
    "directory = '../1_dmftsolver/NRG'\n",
    "\n",
    "w, A,Gr,Gi,_,_,_,_,_,_ = np.loadtxt(f'{directory}/Bethe_14_beta10000/Bethe-{2.5:.3f}.dat', \\\n",
    "                       unpack = True, dtype = 'complex128')\n",
    "plt.plot(w.real)\n",
    "plt.ylabel(r'real frequency $\\omega$')\n",
    "plt.xlabel('index number')\n",
    "plt.axvspan(1319-250, 1319+250, alpha=0.5, color='#ffee52')\n",
    "plt.annotate(r'$\\omega\\simeq0$', xy=(0.5, 0.55), xycoords = 'axes fraction', fontsize=15, ha='center')\n",
    "#plt.savefig('index2w.png')\n",
    "plt.show()"
   ]
  },
  {
   "cell_type": "markdown",
   "metadata": {},
   "source": [
    "# Data"
   ]
  },
  {
   "cell_type": "code",
   "execution_count": 4,
   "metadata": {
    "scrolled": true
   },
   "outputs": [],
   "source": [
    "beta = 10000\n",
    "U_c1_4, U_c2_4 = 2.25, 2.9\n",
    "    \n",
    "w_len = len(np.loadtxt(f'{directory}/Bethe_14_beta{beta:d}/Bethe-{2.000:.3f}.dat', \\\n",
    "                       unpack = True, dtype = 'complex128')[0])\n",
    "\n",
    "up_num = 142\n",
    "dn_num = 129\n",
    "\n",
    "U = np.array([0.001*i for i in range(500, 5001)])\n",
    "U1_4 = np.zeros(up_num, dtype = 'float64')\n",
    "U2_4 = np.zeros(dn_num, dtype = 'float64')\n",
    "\n",
    "n = 0\n",
    "for i, u in enumerate(U):\n",
    "    if path.isfile(f'{directory}/Bethe_14_beta{beta:d}/Bethe-{u:.3f}.dat')==False: continue\n",
    "    U1_4[n] = u\n",
    "    n += 1\n",
    "    \n",
    "n = 0\n",
    "for i, u in enumerate(U):\n",
    "    if path.isfile(f'{directory}/Bethe_41_beta{beta:d}/Bethe-{u:.3f}.dat')==False: continue\n",
    "    U2_4[n] = u\n",
    "    n += 1\n",
    "    \n",
    "x_test_4 = np.zeros((len(U1_4)+len(U2_4), 2638*2), dtype = 'float64')\n",
    "UU1 = U1_4[U1_4<2.3]\n",
    "UU2 = U2_4[U2_4>2.8]\n",
    "x = np.zeros((len(UU1)+len(UU2), 2638*2), dtype = 'float64')\n",
    "\n",
    "# train data\n",
    "for i, u in enumerate(UU1):\n",
    "    if path.isfile(f'{directory}/Bethe_14_beta{beta:d}/Bethe-{u:.3f}.dat')==False: continue\n",
    "    w, A, G_r, G_i, S_r, S_i, Xn_r, Xn_i, Xs_r, Xs_i = np.loadtxt(f'{directory}/Bethe_14_beta{beta:d}/Bethe-{u:.3f}.dat', \\\n",
    "                                                                 unpack=True, dtype = 'float64')\n",
    "    x[i, :2638], x[i, 2638:] = ((D/2)**2*G_r), ((D/2)**2*G_i)\n",
    "for i, u in enumerate(UU2):\n",
    "    if path.isfile(f'{directory}/Bethe_41_beta{beta:d}/Bethe-{u:.3f}.dat')==False: continue\n",
    "    w, A, G_r, G_i, S_r, S_i, Xn_r, Xn_i, Xs_r, Xs_i = np.loadtxt(f'{directory}/Bethe_41_beta{beta:d}/Bethe-{u:.3f}.dat', \\\n",
    "                                                                 unpack=True, dtype = 'float64')\n",
    "    x[i+len(UU1), :2638], x[i+len(UU1), 2638:] = ((D/2)**2*G_r), ((D/2)**2*G_i)\n",
    "x = -torch.FloatTensor(x)\n",
    "size = len(x[0])\n",
    "\n",
    "# test data\n",
    "for i, u in enumerate(U1_4):\n",
    "    if path.isfile(f'{directory}/Bethe_14_beta{beta:d}/Bethe-{u:.3f}.dat')==False: continue\n",
    "    w, A, G_r, G_i, S_r, S_i, Xn_r, Xn_i, Xs_r, Xs_i = np.loadtxt(f'{directory}/Bethe_14_beta{beta:d}/Bethe-{u:.3f}.dat', \\\n",
    "                                                                 unpack=True, dtype = 'float64')\n",
    "    x_test_4[i, :2638], x_test_4[i, 2638:] = ((D/2)**2*G_r), ((D/2)**2*G_i)\n",
    "for i, u in enumerate(U2_4):\n",
    "    if path.isfile(f'{directory}/Bethe_41_beta{beta:d}/Bethe-{u:.3f}.dat')==False: continue\n",
    "    w, A, G_r, G_i, S_r, S_i, Xn_r, Xn_i, Xs_r, Xs_i = np.loadtxt(f'{directory}/Bethe_41_beta{beta:d}/Bethe-{u:.3f}.dat', \\\n",
    "                                                                 unpack=True, dtype = 'float64')\n",
    "    x_test_4[i+len(U1_4), :2638], x_test_4[i+len(U1_4), 2638:] = ((D/2)**2*G_r), ((D/2)**2*G_i)\n",
    "x_test_4 = -torch.FloatTensor(x_test_4)\n",
    "\n",
    "\n",
    "# Metal = 1, Insulator = 0\n",
    "y_temp1 = np.array(UU1 < U_c2_4)\n",
    "y_temp2 = np.array(UU2 < U_c1_4)\n",
    "y_temp = np.concatenate([y_temp1, y_temp2])\n",
    "y = np.stack([y_temp, ~y_temp], axis = 1)\n",
    "y = torch.FloatTensor(y)\n",
    "\n",
    "y_temp1 = np.array(U1_4 < U_c2_4)\n",
    "y_temp2 = np.array(U2_4 < U_c1_4)\n",
    "y_temp = np.concatenate([y_temp1, y_temp2])\n",
    "y_test_4 = np.stack([y_temp, ~y_temp], axis = 1)\n",
    "y_test_4 = torch.FloatTensor(y_test_4)\n",
    "UU_4 = np.concatenate((U1_4, U2_4))\n",
    "\n",
    "def divide(x_, y_):\n",
    "    mask = np.random.rand(len(x_)) < 0.8  # train : val = 4 : 1\n",
    "    x_train, x_val = x_[mask], x_[~mask]\n",
    "    y_train, y_val = y_[mask], y_[~mask]\n",
    "    return x_train, x_val, y_train, y_val\n",
    "x_train, x_val, y_train, y_val = divide(x, y)"
   ]
  },
  {
   "cell_type": "code",
   "execution_count": 5,
   "metadata": {},
   "outputs": [],
   "source": [
    "'''\n",
    "beta=1000\n",
    "U_c1_3, U_c2_3 = 2.225, 2.69\n",
    "\n",
    "up_num = 50\n",
    "dn_num = 60\n",
    "\n",
    "U1_3 = np.zeros(up_num, dtype = 'float64')\n",
    "U2_3 = np.zeros(dn_num, dtype = 'float64')\n",
    "\n",
    "n = 0\n",
    "for i, u in enumerate(U):\n",
    "    if path.isfile(f'{directory}/B_14_beta{beta:d}/Bethe-{u:.3f}.dat')==False: continue\n",
    "    U1_3[n] = u\n",
    "    n += 1\n",
    "n = 0\n",
    "for i, u in enumerate(U):\n",
    "    if path.isfile(f'{directory}/B_41_beta{beta:d}/Bethe-{u:.3f}.dat')==False: continue\n",
    "    U2_3[n] = u\n",
    "    n += 1\n",
    "    \n",
    "x_test_3 = np.zeros((len(U1_3)+len(U2_3), 2638), dtype = 'float64')\n",
    "UU1 = U1_3[U1_3<U_c1_3]\n",
    "UU2 = U2_3[U2_3>U_c2_3]\n",
    "\n",
    "# test data\n",
    "for i, u in enumerate(U1_3):\n",
    "    if path.isfile(f'{directory}/B_14_beta{beta:d}/Bethe-{u:.3f}.dat')==False: continue\n",
    "    w, A, G_r, G_i, S_r, S_i, Xn_r, Xn_i, Xs_r, Xs_i = np.loadtxt(f'{directory}/B_14_beta{beta:d}/Bethe-{u:.3f}.dat', \\\n",
    "                                                                 unpack=True, dtype = 'float64')\n",
    "    x_test_3[i] = ((D/2)**2*G_i)\n",
    "for i, u in enumerate(U2_3):\n",
    "    if path.isfile(f'{directory}/B_41_beta{beta:d}/Bethe-{u:.3f}.dat')==False: continue\n",
    "    w, A, G_r, G_i, S_r, S_i, Xn_r, Xn_i, Xs_r, Xs_i = np.loadtxt(f'{directory}/B_41_beta{beta:d}/Bethe-{u:.3f}.dat', \\\n",
    "                                                                 unpack=True, dtype = 'float64')\n",
    "    x_test_3[i+len(U1_3)] = ((D/2)**2*G_i)\n",
    "x_test_3 = -torch.FloatTensor(x_test_3)\n",
    "y_temp1 = np.array(U1_3 < U_c2_3)\n",
    "y_temp2 = np.array(U2_3 < U_c1_3)\n",
    "y_temp = np.concatenate([y_temp1, y_temp2])\n",
    "y_test_3 = np.stack([y_temp, ~y_temp], axis = 1)\n",
    "y_test_3 = torch.FloatTensor(y_test_3)\n",
    "UU_3 = np.concatenate((U1_3, U2_3))\n",
    "'''\n",
    "beta=100\n",
    "U_c1_2, U_c2_2 = 2.22, 2.5\n",
    "\n",
    "up_num = 31\n",
    "dn_num = 64\n",
    "\n",
    "U1_2 = np.zeros(up_num, dtype = 'float64')\n",
    "U2_2 = np.zeros(dn_num, dtype = 'float64')\n",
    "\n",
    "n = 0\n",
    "for i, u in enumerate(U):\n",
    "    if path.isfile(f'{directory}/Bethe_14_beta{beta:d}/Bethe-{u:.3f}.dat')==False: continue\n",
    "    U1_2[n] = u\n",
    "    n += 1\n",
    "    \n",
    "n = 0\n",
    "for i, u in enumerate(U):\n",
    "    if path.isfile(f'{directory}/Bethe_41_beta{beta:d}/Bethe-{u:.3f}.dat')==False: continue\n",
    "    U2_2[n] = u\n",
    "    n += 1\n",
    "    \n",
    "x_test_2 = np.zeros((len(U1_2)+len(U2_2), 2638*2), dtype = 'float64')\n",
    "UU1 = U1_2[U1_2<U_c1_2]\n",
    "UU2 = U2_2[U2_2>U_c2_2]\n",
    "\n",
    "# test data\n",
    "for i, u in enumerate(U1_2):\n",
    "    if path.isfile(f'{directory}/Bethe_14_beta{beta:d}/Bethe-{u:.3f}.dat')==False: continue\n",
    "    w, A, G_r, G_i, S_r, S_i, Xn_r, Xn_i, Xs_r, Xs_i = np.loadtxt(f'{directory}/Bethe_14_beta{beta:d}/Bethe-{u:.3f}.dat', \\\n",
    "                                                                 unpack=True, dtype = 'float64')\n",
    "    x_test_2[i, :2638], x_test_2[i, 2638:] = ((D/2)**2*G_r), ((D/2)**2*G_i)\n",
    "for i, u in enumerate(U2_2):\n",
    "    if path.isfile(f'{directory}/Bethe_41_beta{beta:d}/Bethe-{u:.3f}.dat')==False: continue\n",
    "    w, A, G_r, G_i, S_r, S_i, Xn_r, Xn_i, Xs_r, Xs_i = np.loadtxt(f'{directory}/Bethe_41_beta{beta:d}/Bethe-{u:.3f}.dat', \\\n",
    "                                                                 unpack=True, dtype = 'float64')\n",
    "    x_test_2[i+len(U1_2), :2638], x_test_2[i+len(U1_2), 2638:] = ((D/2)**2*G_r), ((D/2)**2*G_i)\n",
    "x_test_2 = -torch.FloatTensor(x_test_2)\n",
    "\n",
    "y_temp1 = np.array(U1_2 < U_c2_2)\n",
    "y_temp2 = np.array(U2_2 < U_c1_2)\n",
    "y_temp = np.concatenate([y_temp1, y_temp2])\n",
    "y_test_2 = np.stack([y_temp, ~y_temp], axis = 1)\n",
    "y_test_2 = torch.FloatTensor(y_test_2)\n",
    "UU_2 = np.concatenate((U1_2, U2_2))"
   ]
  },
  {
   "cell_type": "markdown",
   "metadata": {},
   "source": [
    "# Neural Network"
   ]
  },
  {
   "cell_type": "code",
   "execution_count": 6,
   "metadata": {},
   "outputs": [],
   "source": [
    "class Net(nn.Module):\n",
    "    def __init__(self, node = None, activate = None):\n",
    "        super(Net, self).__init__()\n",
    "        self.node = node\n",
    "        self.W1 = nn.Linear(size, self.node)#, bias=False)\n",
    "        self.b1 = nn.Linear(self.node, 1, bias=False)\n",
    "        self.W2 = nn.Linear(self.node, out_node)#, bias=False)\n",
    "        self.b2 = nn.Linear(out_node, 1, bias=False)\n",
    "        self.activate = activate()\n",
    "        self.sig = nn.Sigmoid()\n",
    "\n",
    "        #self.W1.weight.data.fill_(0)\n",
    "        nn.init.uniform_(self.W1.weight, -0.001, 0.001)\n",
    "        #nn.init.uniform_(self.W2.weight, -0.001, 0.001)\n",
    "        nn.init.xavier_normal_(self.W2.weight)\n",
    "        #nn.init.uniform_(self.W1.weight.data[:, 1319-200:1319+200], -0.1, 0.1)\n",
    "        self.b1.weight.data.fill_(0)\n",
    "        self.b2.weight.data.fill_(0)\n",
    "        '''\n",
    "        if (activate==nn.Sigmoid or activate==nn.Tanh):\n",
    "            nn.init.xavier_normal_(self.W1.weight)\n",
    "            nn.init.xavier_normal_(self.W2.weight)\n",
    "        else:\n",
    "            nn.init.kaiming_normal_(self.W1.weight)\n",
    "            nn.init.kaiming_normal_(self.W2.weight)\n",
    "        '''\n",
    "\n",
    "    def forward(self, x):\n",
    "        x = self.activate(self.W1(x)+self.b1.weight.data)\n",
    "        x = self.W2(x)+self.b2.weight.data\n",
    "        return self.sig(x)\n",
    "\n",
    "    def loss1(self, output, y, reg): # regularization l1\n",
    "        regular = reg*(torch.norm(self.W1.weight.data, p=1)+torch.norm(self.W2.weight.data, p=1))\n",
    "        return F.binary_cross_entropy(output, y) + regular # cross entropy loss\n",
    "    def loss2(self, output, y, reg): # regularization l2\n",
    "        regular = reg*(torch.norm(self.W1.weight.data)**2+torch.norm(self.W2.weight.data)**2)\n",
    "        return F.binary_cross_entropy(output, y) + regular # cross entropy loss\n",
    "\n",
    "    def accuracy(self, output, y):\n",
    "        return np.average((output>=0.5)==y)"
   ]
  },
  {
   "cell_type": "markdown",
   "metadata": {},
   "source": [
    "# Training"
   ]
  },
  {
   "cell_type": "code",
   "execution_count": 11,
   "metadata": {
    "scrolled": true
   },
   "outputs": [
    {
     "name": "stdout",
     "output_type": "stream",
     "text": [
      "epoch = 0, training loss = 0.054559, valid loss = 0.054408, accuracy = 0.99630996\n",
      "epoch = 500, training loss = 0.053263, valid loss = 0.053102, accuracy = 0.99630996\n",
      "epoch = 1000, training loss = 0.052027, valid loss = 0.051857, accuracy = 0.99630996\n",
      "epoch = 1500, training loss = 0.050848, valid loss = 0.050670, accuracy = 0.99630996\n",
      "epoch = 2000, training loss = 0.049722, valid loss = 0.049536, accuracy = 0.99630996\n",
      "epoch = 2500, training loss = 0.048645, valid loss = 0.048452, accuracy = 0.99630996\n",
      "epoch = 3000, training loss = 0.047615, valid loss = 0.047416, accuracy = 0.99630996\n",
      "epoch = 3500, training loss = 0.046628, valid loss = 0.046423, accuracy = 0.99630996\n",
      "epoch = 4000, training loss = 0.045682, valid loss = 0.045472, accuracy = 0.99630996\n",
      "epoch = 4500, training loss = 0.044775, valid loss = 0.044560, accuracy = 0.99630996\n",
      "epoch = 5000, training loss = 0.043904, valid loss = 0.043685, accuracy = 0.99630996\n"
     ]
    }
   ],
   "source": [
    "learning_rate = 1e-3\n",
    "reg = 1e-5\n",
    "h_node = 10\n",
    "func = nn.Sigmoid # activation function\n",
    "#model = Net(node = h_node, activate = func)\n",
    "\n",
    "# Begin training and validation\n",
    "optimizer = optim.SGD(model.parameters(), lr = learning_rate)\n",
    "n_epochs = 5000\n",
    "train_loss, val_loss, test_acc = np.ones(n_epochs+1), np.ones(n_epochs+1), np.ones(n_epochs+1)\n",
    "for epoch in range (n_epochs+1):\n",
    "    loss = model.loss1(model.forward(x_train), y_train, reg)\n",
    "    optimizer.zero_grad()\n",
    "    loss.backward()\n",
    "    optimizer.step()\n",
    "    \n",
    "    valid_loss = model.loss1(model.forward(x_val), y_val, reg).item()\n",
    "    t_acc = model.accuracy(model.forward(x_test_4), y_test_4)\n",
    "    train_loss[epoch], val_loss[epoch], test_acc[epoch] = loss.item(), valid_loss, t_acc\n",
    "\n",
    "    if epoch%int(n_epochs/10) == 0:\n",
    "        print('epoch = %d, training loss = %.6f, valid loss = %.6f, accuracy = %.8f' \\\n",
    "                %(epoch, loss.item(), valid_loss, t_acc))"
   ]
  },
  {
   "cell_type": "code",
   "execution_count": 12,
   "metadata": {},
   "outputs": [
    {
     "data": {
      "image/png": "[encoded data removed]",
      "text/plain": [
       "<Figure size 1080x288 with 3 Axes>"
      ]
     },
     "metadata": {
      "needs_background": "light"
     },
     "output_type": "display_data"
    }
   ],
   "source": [
    "fig, ax = plt.subplots(1,3, figsize=(15, 4), sharey=True)\n",
    "\n",
    "\n",
    "ax[0].axvline(U_c1_4, c = '#ffee52', lw = '4',  alpha=0.8)\n",
    "ax[0].axvline(U_c2_4, c = '#ffee52', lw = '4',  alpha=0.8)\n",
    "ax[0].plot(UU_4, model.forward(x_test_4).data[:,0], 'bo', mfc='none', label = 'trained')\n",
    "#ax[0].plot(UU_4, x_test_4[:,1319]/torch.max(x_test_4[:, 1319]), 'g^', ms=6, mfc='none', label=r'$Im\\Delta(\\omega=0)$')\n",
    "ax[0].plot(UU_4, y_test_4[:,0], 'r.', ms = 5, label = 'actual')\n",
    "ax[0].set_xlim(1.5, 3.5)\n",
    "ax[0].set_ylabel('output')\n",
    "ax[0].set_xlabel('U')\n",
    "ax[0].annotate(r'$U_{c1}$', xy=(0.32, 0.2), xycoords = 'axes fraction', fontsize=15, ha='center')\n",
    "ax[0].annotate(r'$U_{c2}$', xy=(0.76, 0.2), xycoords = 'axes fraction', fontsize=15, ha='center')\n",
    "ax[0].set_title(r'$\\beta=10000$', fontsize=16)\n",
    "ax[0].legend(loc='center left')\n",
    "\n",
    "\n",
    "\n",
    "ax[2].axvline(U_c1_2, c = '#ffee52', lw = '4',  alpha=0.8)\n",
    "ax[2].axvline(U_c2_2, c = '#ffee52', lw = '4',  alpha=0.8)\n",
    "ax[2].plot(UU_2, model.forward(x_test_2).data[:,0], 'bo', mfc='none', label = 'trained')\n",
    "#ax[2].plot(UU_2, x_test_2[:,1319]/torch.max(x_test_2[:, 1319]), 'g^', ms=6, mfc='none', label=r'$Im\\Delta(\\omega=0)$')\n",
    "ax[2].plot(UU_2, y_test_2[:,0], 'r.', ms = 5, label = 'actual')\n",
    "ax[2].set_xlim(1.5, 3.5)\n",
    "ax[2].set_xlabel('U')\n",
    "ax[2].annotate(r'$U_{c1}$', xy=(0.305, 0.2), xycoords = 'axes fraction', fontsize=15, ha='center')\n",
    "ax[2].annotate(r'$U_{c2}$', xy=(0.56, 0.2), xycoords = 'axes fraction', fontsize=15, ha='center')\n",
    "ax[2].set_title(r'$\\beta=100$', fontsize=16)\n",
    "ax[2].legend()\n",
    "\n",
    "plt.tight_layout(w_pad=1.5)\n",
    "#plt.savefig(f'LogisticRegression_output_u0.01.png')"
   ]
  },
  {
   "cell_type": "code",
   "execution_count": 13,
   "metadata": {},
   "outputs": [],
   "source": [
    "npoint = 2001\n",
    "weq = np.linspace(-5, 5, npoint)\n",
    "weqind = np.zeros(npoint, dtype=int)\n",
    "weqalp = np.zeros_like(weq)\n",
    "\n",
    "\n",
    "def dat2f(datw, rw):\n",
    "    for i, w in enumerate(datw):\n",
    "        if rw < w: break\n",
    "    a = (w-rw) / (w-datw[i-1])\n",
    "    return i, a\n",
    "for i,wq in enumerate(weq):\n",
    "    weqind[i], weqalp[i] = dat2f(w.real, wq)\n",
    "    \n",
    "def G2Geq(datG, rw):\n",
    "    Giweq = np.zeros_like(weq)\n",
    "    for i,wqind in enumerate(weqind):\n",
    "        Giweq[i] = datG[wqind]*(1-weqalp[i]) + datG[wqind-1]*weqalp[i]\n",
    "    return Giweq"
   ]
  },
  {
   "cell_type": "code",
   "execution_count": 15,
   "metadata": {},
   "outputs": [
    {
     "data": {
      "image/png": "[encoded data removed]",
      "text/plain": [
       "<Figure size 432x288 with 1 Axes>"
      ]
     },
     "metadata": {
      "needs_background": "light"
     },
     "output_type": "display_data"
    }
   ],
   "source": [
    "number, bins, patches = plt.hist(w.real, bins=npoint)\n",
    "Weight = np.zeros([h_node, npoint*2])\n",
    "for i in range (h_node):\n",
    "    Weight[i, :npoint] = G2Geq(model.W1.weight.data[i, :2638], weq)\n",
    "    Weight[i, npoint:] = G2Geq(model.W1.weight.data[i, 2638:], weq)"
   ]
  },
  {
   "cell_type": "code",
   "execution_count": 16,
   "metadata": {},
   "outputs": [
    {
     "data": {
      "image/png": "[encoded data removed]",
      "text/plain": [
       "<Figure size 864x288 with 4 Axes>"
      ]
     },
     "metadata": {
      "needs_background": "light"
     },
     "output_type": "display_data"
    }
   ],
   "source": [
    "fig, ax = plt.subplots(1, 2, figsize = (12, 4))\n",
    "op = {'vmin': -0.1, 'vmax': 0.1}\n",
    "OP = {'vmin': -1.5, 'vmax': 1.5}\n",
    "im1 = ax[0].imshow(np.array(model.W1.weight.data), aspect=0.5*size/h_node, cmap='bwr', **op)\n",
    "im2 = ax[1].imshow(Weight*np.tile(number, 2), aspect=2000/h_node, cmap='bwr', **OP)\n",
    "import matplotlib.ticker as ticker\n",
    "ax[1].xaxis.set_major_locator(ticker.MultipleLocator(500))\n",
    "ax[1].xaxis.set_major_formatter(ticker.FuncFormatter(lambda x, pos: r'%.1f'%((x-1000)/200)))\n",
    "ax[1].set_xlabel(r'$\\omega$')\n",
    "ax[0].annotate('', xy=(0, -0.125), xytext=(1, -0.125), xycoords='axes fraction',\\\n",
    "               ha='center', va=\"center\", arrowprops={'arrowstyle':'|-|', 'shrinkA':0, 'shrinkB':0})\n",
    "\n",
    "ax[0].annotate('', xy=(0.25, 1.05), xytext=(0.75, 1.05), xycoords='axes fraction',\\\n",
    "               ha='center', va=\"center\", arrowprops={'arrowstyle':'<->', 'shrinkA':0, 'shrinkB':0})\n",
    "ax[0].annotate(r'$\\omega\\simeq0$', xy=(0.5, 1.1), xycoords = 'axes fraction', fontsize=15, ha='center')\n",
    "ax[0].annotate(r'$\\Delta$ imag', xy=(0.5, -0.2), xycoords = 'axes fraction', fontsize=15, ha='center')\n",
    "\n",
    "cd = plt.colorbar(im1, ax=ax[0])\n",
    "cd = plt.colorbar(im2, ax=ax[1])\n",
    "#plt.savefig('NN_Weight_u0.001_10.png')\n",
    "plt.show()"
   ]
  },
  {
   "cell_type": "code",
   "execution_count": 34,
   "metadata": {},
   "outputs": [
    {
     "data": {
      "text/plain": [
       "[<matplotlib.lines.Line2D at 0x7f28f5cf9190>]"
      ]
     },
     "execution_count": 34,
     "metadata": {},
     "output_type": "execute_result"
    },
    {
     "data": {
      "image/png": "[encoded data removed]",
      "text/plain": [
       "<Figure size 864x288 with 2 Axes>"
      ]
     },
     "metadata": {
      "needs_background": "light"
     },
     "output_type": "display_data"
    }
   ],
   "source": [
    "fig, ax = plt.subplots(1,2, figsize=(12, 4), sharey=True)\n",
    "ax[0].plot(weq, (Weight*np.tile(number, 2))[4, :npoint])\n",
    "ax[1].plot(weq, (Weight*np.tile(number, 2))[4, npoint:])"
   ]
  },
  {
   "cell_type": "markdown",
   "metadata": {},
   "source": [
    "# Transformation into matsubara frequency domain (nontrivial)"
   ]
  },
  {
   "cell_type": "code",
   "execution_count": 20,
   "metadata": {},
   "outputs": [],
   "source": [
    "x_test_iw = np.zeros((len(U1_4)+len(U2_4), 20000), dtype = 'float64')\n",
    "beta = 10000\n",
    "for i,u in enumerate(U1_4):\n",
    "    iw, Giw_r, Giw_i = np.loadtxt(f'../1_dmftsolver/NRG/A_to_Giw/NRG/Bethe_14_beta{beta:d}/Bethe-Giw-{u:.3f}.dat',\\\n",
    "                                       unpack = True, dtype = 'float64')\n",
    "    x_test_iw[i, :10000], x_test_iw[i, 10000:] = (D/2)**2 * Giw_r, (D/2)**2 * Giw_i\n",
    "for i,u in enumerate(U2_4):\n",
    "    iw, Giw_r, Giw_i = np.loadtxt(f'../1_dmftsolver/NRG/A_to_Giw/NRG/Bethe_41_beta{beta:d}/Bethe-Giw-{u:.3f}.dat',\\\n",
    "                                       unpack = True, dtype = 'float64')\n",
    "    x_test_iw[i+len(U1_4), :10000], x_test_iw[i+len(U1_4), 10000:] = (D/2)**2 * Giw_r, (D/2)**2 * Giw_i\n",
    "x_test_iw = torch.FloatTensor(-x_test_iw)"
   ]
  },
  {
   "cell_type": "code",
   "execution_count": 21,
   "metadata": {},
   "outputs": [],
   "source": [
    "def G(x):\n",
    "    return np.array([simps(x/(1j*omega[i]-w), w) for i in range (N)])\n",
    "def Geq(x):\n",
    "    return np.array([simps(x/(1j*omega[i]-weq), weq) for i in range (N)])\n",
    "\n",
    "def Gmat(x):\n",
    "    return -np.array([G(xx) for i, xx in enumerate(x)])/np.pi\n",
    "def Geqmat(x):\n",
    "    return -np.array([Geq(xx) for i, xx in enumerate(x)])/np.pi\n",
    "\n",
    "directory = '../1_dmftsolver/NRG'\n",
    "beta = 10000\n",
    "N = 10000\n",
    "w = np.loadtxt(f'{directory}/Bethe_14_beta{beta:d}/Bethe-{2.000:.3f}.dat', unpack = True, dtype = 'float64')[0]\n",
    "\n",
    "omega = np.pi/beta * (2*np.arange(N)+1) # w_n\n",
    "iwnumber = -Geq(number).imag/np.pi\n",
    "\n",
    "\n",
    "\n",
    "#W_eff_iw = Geqmat(Weight*number).imag\n",
    "W_iw_eff_r = Gmat(model.W1.weight.data[:,2638:]).real * iwnumber\n",
    "W_iw_eff_i = Gmat(model.W1.weight.data[:,2638:]).imag * iwnumber"
   ]
  },
  {
   "cell_type": "code",
   "execution_count": 24,
   "metadata": {
    "scrolled": true
   },
   "outputs": [
    {
     "data": {
      "image/png": "[encoded data removed]",
      "text/plain": [
       "<Figure size 432x288 with 2 Axes>"
      ]
     },
     "metadata": {
      "needs_background": "light"
     },
     "output_type": "display_data"
    },
    {
     "data": {
      "text/plain": [
       "<matplotlib.lines.Line2D at 0x7f28f5a370d0>"
      ]
     },
     "execution_count": 24,
     "metadata": {},
     "output_type": "execute_result"
    },
    {
     "data": {
      "image/png": "[encoded data removed]",
      "text/plain": [
       "<Figure size 432x288 with 1 Axes>"
      ]
     },
     "metadata": {
      "needs_background": "light"
     },
     "output_type": "display_data"
    }
   ],
   "source": [
    "iw_width = 50\n",
    "im1 = plt.imshow(W_iw_eff_i, aspect = iw_width/10, cmap='bwr', **{'vmin': -30, 'vmax': 30})\n",
    "plt.xlim(0, iw_width)\n",
    "cd = plt.colorbar(im1)\n",
    "plt.show()\n",
    "\n",
    "plt.plot(omega, W_iw_eff_i[0])\n",
    "#plt.ylim(-0.1, 0.1)\n",
    "plt.axhline(0, c='k', lw=1, ls='--')"
   ]
  },
  {
   "cell_type": "code",
   "execution_count": 25,
   "metadata": {},
   "outputs": [],
   "source": [
    "class TNet(nn.Module):\n",
    "    def __init__(self, node = None, activate = None):\n",
    "        super(TNet, self).__init__()\n",
    "        self.node = node\n",
    "        self.W1 = nn.Linear(20000, self.node)#, bias=False)\n",
    "        self.b1 = nn.Linear(self.node, 1, bias=False)\n",
    "        self.W2 = nn.Linear(self.node, out_node)#, bias=False)\n",
    "        self.b2 = nn.Linear(out_node, 1, bias=False)\n",
    "        self.activate = activate()\n",
    "        self.sig = nn.Sigmoid()\n",
    "\n",
    "        #self.W1.weight.data.fill_(0)\n",
    "        self.W1.weight.data[:, :10000] = torch.FloatTensor(W_iw_eff_r)\n",
    "        self.W1.weight.data[:, 10000:] = torch.FloatTensor(W_iw_eff_i)\n",
    "        self.W2.weight.data = model.W2.weight.data\n",
    "        #self.W1.weight.data = torch.FloatTensor(W_eff_iw)\n",
    "        self.b1.weight.data = model.b1.weight.data\n",
    "        self.b2.weight.data = model.b2.weight.data\n",
    "        '''\n",
    "        if (activate==nn.Sigmoid or activate==nn.Tanh):\n",
    "            nn.init.xavier_normal_(self.W1.weight)\n",
    "            nn.init.xavier_normal_(self.W2.weight)\n",
    "        else:\n",
    "            nn.init.kaiming_normal_(self.W1.weight)\n",
    "            nn.init.kaiming_normal_(self.W2.weight)\n",
    "        '''\n",
    "\n",
    "    def forward(self, x):\n",
    "        x = self.activate(self.W1(x)+self.b1.weight.data)\n",
    "        x = self.W2(x)+self.b2.weight.data\n",
    "        return self.sig(x)\n",
    "\n",
    "    def loss1(self, output, y, reg): # regularization l1\n",
    "        regular = reg*(torch.norm(self.W1.weight.data, p=1)+torch.norm(self.W2.weight.data, p=1))\n",
    "        return F.binary_cross_entropy(output, y) + regular # cross entropy loss\n",
    "    def loss2(self, output, y, reg): # regularization l2\n",
    "        regular = reg*(torch.norm(self.W1.weight.data)**2+torch.norm(self.W2.weight.data)**2)\n",
    "        return F.binary_cross_entropy(output, y) + regular # cross entropy loss\n",
    "\n",
    "    def accuracy(self, output, y):\n",
    "        return np.average((output>=0.5)==y)"
   ]
  },
  {
   "cell_type": "code",
   "execution_count": 26,
   "metadata": {},
   "outputs": [],
   "source": [
    "Tmodel = TNet(node = h_node, activate = func)"
   ]
  },
  {
   "cell_type": "code",
   "execution_count": 27,
   "metadata": {},
   "outputs": [
    {
     "data": {
      "image/png": "[encoded data removed]",
      "text/plain": [
       "<Figure size 432x288 with 1 Axes>"
      ]
     },
     "metadata": {
      "needs_background": "light"
     },
     "output_type": "display_data"
    }
   ],
   "source": [
    "plt.axvline(U_c1_4, c = '#ffee52', lw = '4',  alpha=0.8)\n",
    "plt.axvline(U_c2_4, c = '#ffee52', lw = '4',  alpha=0.8)\n",
    "plt.plot(UU_4, Tmodel.forward(x_test_iw).data[:,0], 'bo', mfc='none', label = 'trained')\n",
    "#plt.plot(UU_4, x_test_iw[:,0]/torch.max(x_test_iw[:, 0]), 'g^', ms=6, mfc='none', label=r'$Im\\Delta(\\omega=0)$')\n",
    "plt.plot(UU_4, y_test_4[:,0], 'r.', ms = 5, label = 'actual')\n",
    "plt.xlim(1.5, 3.5)\n",
    "plt.xlabel('U')\n",
    "plt.annotate(r'$U_{c1}$', xy=(0.305, 0.2), xycoords = 'axes fraction', fontsize=15, ha='center')\n",
    "plt.annotate(r'$U_{c2}$', xy=(0.56, 0.2), xycoords = 'axes fraction', fontsize=15, ha='center')\n",
    "#plt.title(r'$\\beta=100$', fontsize=16)\n",
    "plt.legend()\n",
    "\n",
    "plt.tight_layout(w_pad=1.5)"
   ]
  },
  {
   "cell_type": "markdown",
   "metadata": {},
   "source": [
    "### ED data"
   ]
  },
  {
   "cell_type": "code",
   "execution_count": 28,
   "metadata": {},
   "outputs": [
    {
     "name": "stdout",
     "output_type": "stream",
     "text": [
      "[-1.67494735e+00 -7.14427384e-01  2.61008098e-04  7.12975771e-01\n",
      "  1.67489392e+00] [ 0.30949093 -0.16820854  0.00101162 -0.16786696  0.30971471]\n"
     ]
    },
    {
     "data": {
      "image/png": "[encoded data removed]",
      "text/plain": [
       "<Figure size 432x288 with 1 Axes>"
      ]
     },
     "metadata": {
      "needs_background": "light"
     },
     "output_type": "display_data"
    }
   ],
   "source": [
    "def EDbath(e, V):\n",
    "    return np.array([np.sum(V**2/(1j*omega[i]-e)) for i in range (aa)])\n",
    "beta = 100\n",
    "directory1 = '../1_dmftsolver/ED'\n",
    "a = np.loadtxt(f'{directory1}/ED_14_beta{beta:d}/checkpoint-{3.00:.2f}', dtype = 'float64')\n",
    "iw, Giwr, Giwi = np.loadtxt(f'{directory1}/ED_14_beta{beta:d}/Giw-{3.00:.2f}.dat',\\\n",
    "                                       unpack = True, dtype = 'float64')\n",
    "e, V = a[:5], a[5:]\n",
    "\n",
    "aa = 10000\n",
    "omega = np.pi/aa * (2*np.arange(aa)+1)\n",
    "plt.plot(omega[:aa], 4*EDbath(e,V).imag)\n",
    "plt.plot(iw, Giwi)\n",
    "plt.xlim(-0.1, 5)\n",
    "print(e,V)"
   ]
  },
  {
   "cell_type": "code",
   "execution_count": 29,
   "metadata": {
    "scrolled": true
   },
   "outputs": [],
   "source": [
    "beta = 100\n",
    "directory1 = '../1_dmftsolver/ED'\n",
    "up_num = 211\n",
    "dn_num = 211\n",
    "U1_ed = np.zeros(up_num, dtype = 'float64')\n",
    "U2_ed = np.zeros(dn_num, dtype = 'float64')\n",
    "U_c1_ed, U_c2_ed = 2.4, 2.93\n",
    "\n",
    "U = np.array([0.01*i for i in range(50, 501)])\n",
    "n = 0\n",
    "for i, u in enumerate(U):\n",
    "    if path.isfile(f'{directory1}/ED_14_beta{beta:d}/checkpoint-{u:.2f}')==False: continue\n",
    "    U1_ed[n] = u\n",
    "    n += 1\n",
    "n = 0\n",
    "for i, u in enumerate(U):\n",
    "    if path.isfile(f'{directory1}/ED_41_beta{beta:d}/checkpoint-{u:.2f}')==False: continue\n",
    "    U2_ed[n] = u\n",
    "    n += 1\n",
    "\n",
    "x_test_ed = np.zeros((len(U1_ed)+len(U2_ed), 20000), dtype = 'float64')\n",
    "\n",
    "for i,u in enumerate(U1_ed):\n",
    "    a = np.loadtxt(f'{directory1}/ED_14_beta{beta:d}/checkpoint-{u:.2f}', dtype = 'float64')\n",
    "    e,V = a[:int(len(a)/2)], a[int(len(a)/2):]\n",
    "    mid = EDbath(e,V)\n",
    "    x_test_ed[i][:10000], x_test_ed[i][10000:] = mid.real, mid.imag\n",
    "for i,u in enumerate(U2_ed):\n",
    "    a = np.loadtxt(f'{directory1}/ED_41_beta{beta:d}/checkpoint-{u:.2f}', dtype = 'float64')\n",
    "    e,V = a[:int(len(a)/2)], a[int(len(a)/2):]\n",
    "    mid = EDbath(e,V)\n",
    "    x_test_ed[i+len(U1_ed)][:10000], x_test_ed[i+len(U1_ed)][10000:] = mid.real, mid.imag\n",
    "    \n",
    "    \n",
    "'''\n",
    "for i,u in enumerate(U1_ed):\n",
    "    iw, Giwr, Giwi = np.loadtxt(f'{directory1}/ED_14_beta{beta:d}/Giw-{u:.2f}.dat', \\\n",
    "                                unpack = True, dtype = 'float64')\n",
    "    x_test_ed[i][:5000] = (D/2)**2 * Giwi\n",
    "for i,u in enumerate(U2_ed):\n",
    "    iw, Giwr, Giwi = np.loadtxt(f'{directory1}/ED_41_beta{beta:d}/Giw-{u:.2f}.dat', \\\n",
    "                                unpack = True, dtype = 'float64')\n",
    "    x_test_ed[i+len(U1_ed)][:5000] = (D/2)**2 * Giwi\n",
    "'''\n",
    "x_test_ed = torch.FloatTensor(-x_test_ed)\n",
    "\n",
    "\n",
    "y_temp1 = np.array(U1_ed < U_c2_ed)\n",
    "y_temp2 = np.array(U2_ed < U_c1_ed)\n",
    "y_temp = np.concatenate([y_temp1, y_temp2])\n",
    "y_test_ed = np.stack([y_temp, ~y_temp], axis = 1)\n",
    "y_test_ed = torch.FloatTensor(y_test_ed)\n",
    "UU_ed = np.concatenate((U1_ed, U2_ed))"
   ]
  },
  {
   "cell_type": "code",
   "execution_count": 30,
   "metadata": {},
   "outputs": [
    {
     "data": {
      "image/png": "[encoded data removed]",
      "text/plain": [
       "<Figure size 432x288 with 1 Axes>"
      ]
     },
     "metadata": {
      "needs_background": "light"
     },
     "output_type": "display_data"
    }
   ],
   "source": [
    "plt.axvline(U_c1_ed, c = '#ffee52', lw = '4',  alpha=0.8)\n",
    "plt.axvline(U_c2_ed, c = '#ffee52', lw = '4',  alpha=0.8)\n",
    "plt.plot(UU_ed, Tmodel.forward(x_test_ed).data[:,0], 'bo', mfc='none', label = 'trained')\n",
    "#plt.plot(UU_ed, x_test_ed[:,0]/torch.max(x_test_ed[:, 0]), 'g^', ms=6, mfc='none', label=r'$Im\\Delta(\\omega=0)$')\n",
    "#plt.plot(UU_ed, np.average(x_test_ed[:,0:150], axis=1)/np.max(np.average(x_test_ed[:,0:150], axis=1)), 'g^', ms=6, mfc='none', label=r'$Im\\Delta(\\omega=0)$')\n",
    "plt.plot(UU_ed, y_test_ed[:,0], 'r.', ms = 5, label = 'actual')\n",
    "plt.xlim(1.5, 3.5)\n",
    "plt.xlabel('U')\n",
    "plt.annotate(r'$U_{c1}$', xy=(0.305, 0.2), xycoords = 'axes fraction', fontsize=15, ha='center')\n",
    "plt.annotate(r'$U_{c2}$', xy=(0.56, 0.2), xycoords = 'axes fraction', fontsize=15, ha='center')\n",
    "#plt.title(r'$\\beta=100$', fontsize=16)\n",
    "plt.legend()\n",
    "\n",
    "plt.tight_layout(w_pad=1.5)\n",
    "#plt.savefig('LogisticRegression_outputcubic_u0.001.png')"
   ]
  },
  {
   "cell_type": "markdown",
   "metadata": {},
   "source": [
    "## Saving result"
   ]
  },
  {
   "cell_type": "code",
   "execution_count": 31,
   "metadata": {},
   "outputs": [],
   "source": [
    "np.savetxt('frozen_mat/all_NN10_W1.txt', np.array(model.W1.weight.data))\n",
    "np.savetxt('frozen_mat/all_NN10_W2.txt', np.array(model.W2.weight.data))\n",
    "np.savetxt('frozen_mat/all_NN10_W1_re.txt', Weight)\n",
    "np.savetxt('frozen_mat/all_NN10_W1_iw_r.txt', W_iw_eff_r)\n",
    "np.savetxt('frozen_mat/all_NN10_W1_iw_i.txt', W_iw_eff_i)\n",
    "np.savetxt('frozen_mat/all_NN10_b1.txt', np.array(model.b1.weight.data))\n",
    "np.savetxt('frozen_mat/all_NN10_b2.txt', np.array(model.b2.weight.data))"
   ]
  },
  {
   "cell_type": "code",
   "execution_count": 35,
   "metadata": {},
   "outputs": [],
   "source": [
    "torch.save(model.state_dict(), 'frozen_mat/NN10model.pth')\n",
    "torch.save(Tmodel.state_dict(), 'frozen_mat/TNN10model.pth')"
   ]
  },
  {
   "cell_type": "code",
   "execution_count": null,
   "metadata": {},
   "outputs": [],
   "source": []
  }
 ],
 "metadata": {
  "kernelspec": {
   "display_name": "Python 3",
   "language": "python",
   "name": "python3"
  },
  "language_info": {
   "codemirror_mode": {
    "name": "ipython",
    "version": 3
   },
   "file_extension": ".py",
   "mimetype": "text/x-python",
   "name": "python",
   "nbconvert_exporter": "python",
   "pygments_lexer": "ipython3",
   "version": "3.8.5"
  }
 },
 "nbformat": 4,
 "nbformat_minor": 4
}
